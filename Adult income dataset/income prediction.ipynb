{
 "cells": [
  {
   "cell_type": "markdown",
   "metadata": {},
   "source": [
    "# Table of Contents\n",
    "\n",
    "1. Problem Statement & Hypothesis Generation\n",
    "2. Data Exploration\n",
    "3. Data Cleaning\n",
    "4. Data Manipulation a.k.a Feature Engineering\n",
    "5. Machine Learning"
   ]
  },
  {
   "cell_type": "markdown",
   "metadata": {},
   "source": [
    "# 1. Problem Statement and Hypothesis Generation\n",
    "\n",
    "The Problem Statement：给定特征，目标是建立预测模型，判断美国人民收入水平在50K以下，还是以上。"
   ]
  },
  {
   "cell_type": "markdown",
   "metadata": {},
   "source": [
    "这是个二分类问题。数据来自UCI\n",
    "\n",
    "* Generating hypothesis is the most crucial step in building models.\n",
    "\n",
    "* This step should be practiced before looking at the data.This step should be practiced before looking at the data. This is done to think broadly and not be constrained by what is available. In this step, we’ll __create a laundry list of factors__ which we think could influence the prediction metrics. \n",
    "\n",
    "\n",
    "1. Age\n",
    "2. Marital Status\n",
    "3. Income\n",
    "4. Family Members\n",
    "5. No. of Dependents\n",
    "6. Tax Paid\n",
    "7. Investment (Mutual Fund, Stock)\n",
    "8. Return from Investments\n",
    "9. Education\n",
    "10. Spouse Education\n",
    "11. Nationality\n",
    "12. Occupation\n",
    "13. Region in US\n",
    "14. Race\n",
    "15. Occupation category\n",
    "\n",
    "\n",
    "Hò : There is no significant impact of the variables on the dependent variable.\n",
    "\n",
    "Ha : There exists a significant impact of the variables on the dependent variable.\n",
    "\n",
    "\n",
    "Remind you, this is **not an exhaustive list**. I’d suggest you not to limit your thoughts with the ones above, your aim should be **to make your project as comprehensive & presentable as possible.**\n",
    "\n",
    "记住，每次你想到一个hypothesis，都试着想想它检验哪种相关性、可能成立的理由。比如，我们假设教育Education会有显著影响：更高的受教育水平，人们得到好工作的机会就越大，因此收入超过50K的可能性越高。"
   ]
  },
  {
   "cell_type": "markdown",
   "metadata": {},
   "source": [
    "# 2. Data Exploration"
   ]
  },
  {
   "cell_type": "code",
   "execution_count": 1,
   "metadata": {
    "collapsed": false
   },
   "outputs": [],
   "source": [
    "import pandas as pd\n",
    "import numpy as np\n",
    "import matplotlib.pyplot as plt\n",
    "import matplotlib\n",
    "matplotlib.style.use('ggplot')\n",
    "%matplotlib inline"
   ]
  },
  {
   "cell_type": "code",
   "execution_count": 2,
   "metadata": {
    "collapsed": true
   },
   "outputs": [],
   "source": [
    "train = pd.read_csv('train.csv')\n",
    "test = pd.read_csv('test.csv')"
   ]
  },
  {
   "cell_type": "code",
   "execution_count": 3,
   "metadata": {
    "collapsed": false
   },
   "outputs": [
    {
     "data": {
      "text/plain": [
       "(199523, 41)"
      ]
     },
     "execution_count": 3,
     "metadata": {},
     "output_type": "execute_result"
    }
   ],
   "source": [
    "train.shape"
   ]
  },
  {
   "cell_type": "code",
   "execution_count": 4,
   "metadata": {
    "collapsed": false
   },
   "outputs": [
    {
     "data": {
      "text/plain": [
       "(99762, 41)"
      ]
     },
     "execution_count": 4,
     "metadata": {},
     "output_type": "execute_result"
    }
   ],
   "source": [
    "test.shape                       #train 和 test 都有41列，即test给出了income_level，方便自己对答案，检验模型预测效果"
   ]
  },
  {
   "cell_type": "markdown",
   "metadata": {},
   "source": [
    "### 观察target"
   ]
  },
  {
   "cell_type": "code",
   "execution_count": 5,
   "metadata": {
    "collapsed": false
   },
   "outputs": [
    {
     "data": {
      "text/plain": [
       "array([-50000,  50000])"
      ]
     },
     "execution_count": 5,
     "metadata": {},
     "output_type": "execute_result"
    }
   ],
   "source": [
    "train.income_level.unique()              "
   ]
  },
  {
   "cell_type": "code",
   "execution_count": 6,
   "metadata": {
    "collapsed": false
   },
   "outputs": [
    {
     "data": {
      "text/plain": [
       "array(['-50000', ' 50000+.'], dtype=object)"
      ]
     },
     "execution_count": 6,
     "metadata": {},
     "output_type": "execute_result"
    }
   ],
   "source": [
    "test.income_level.unique()                 # train 和test 对收入水平的标记不同，在模型评估时会很麻烦。二分类，所以转换成0，1"
   ]
  },
  {
   "cell_type": "code",
   "execution_count": 7,
   "metadata": {
    "collapsed": false,
    "scrolled": true
   },
   "outputs": [
    {
     "name": "stderr",
     "output_type": "stream",
     "text": [
      "/Users/mac/anaconda/lib/python3.5/site-packages/ipykernel/__main__.py:1: SettingWithCopyWarning: \n",
      "A value is trying to be set on a copy of a slice from a DataFrame\n",
      "\n",
      "See the caveats in the documentation: http://pandas.pydata.org/pandas-docs/stable/indexing.html#indexing-view-versus-copy\n",
      "  if __name__ == '__main__':\n",
      "/Users/mac/anaconda/lib/python3.5/site-packages/ipykernel/__main__.py:2: SettingWithCopyWarning: \n",
      "A value is trying to be set on a copy of a slice from a DataFrame\n",
      "\n",
      "See the caveats in the documentation: http://pandas.pydata.org/pandas-docs/stable/indexing.html#indexing-view-versus-copy\n",
      "  from ipykernel import kernelapp as app\n"
     ]
    }
   ],
   "source": [
    "train['income_level'][train.income_level== -50000] = 0\n",
    "train['income_level'][train.income_level== 50000] = 1   # 建议train 和test分开处理"
   ]
  },
  {
   "cell_type": "code",
   "execution_count": 8,
   "metadata": {
    "collapsed": false
   },
   "outputs": [
    {
     "name": "stderr",
     "output_type": "stream",
     "text": [
      "/Users/mac/anaconda/lib/python3.5/site-packages/ipykernel/__main__.py:1: SettingWithCopyWarning: \n",
      "A value is trying to be set on a copy of a slice from a DataFrame\n",
      "\n",
      "See the caveats in the documentation: http://pandas.pydata.org/pandas-docs/stable/indexing.html#indexing-view-versus-copy\n",
      "  if __name__ == '__main__':\n",
      "/Users/mac/anaconda/lib/python3.5/site-packages/ipykernel/__main__.py:2: SettingWithCopyWarning: \n",
      "A value is trying to be set on a copy of a slice from a DataFrame\n",
      "\n",
      "See the caveats in the documentation: http://pandas.pydata.org/pandas-docs/stable/indexing.html#indexing-view-versus-copy\n",
      "  from ipykernel import kernelapp as app\n"
     ]
    }
   ],
   "source": [
    "test['income_level'][test.income_level == '-50000'] = 0\n",
    "test['income_level'][test.income_level == ' 50000+.'] = 1  #这里字符串处理要小心，空格等很容易忽略；"
   ]
  },
  {
   "cell_type": "code",
   "execution_count": 9,
   "metadata": {
    "collapsed": false,
    "scrolled": true
   },
   "outputs": [
    {
     "data": {
      "text/plain": [
       "array([0, 1])"
      ]
     },
     "execution_count": 9,
     "metadata": {},
     "output_type": "execute_result"
    }
   ],
   "source": [
    "train.income_level.unique()"
   ]
  },
  {
   "cell_type": "code",
   "execution_count": 10,
   "metadata": {
    "collapsed": false
   },
   "outputs": [
    {
     "data": {
      "text/plain": [
       "array([0, 1], dtype=object)"
      ]
     },
     "execution_count": 10,
     "metadata": {},
     "output_type": "execute_result"
    }
   ],
   "source": [
    "test.income_level.unique()"
   ]
  },
  {
   "cell_type": "markdown",
   "metadata": {},
   "source": [
    "### 看看数据是否平衡"
   ]
  },
  {
   "cell_type": "code",
   "execution_count": 11,
   "metadata": {
    "collapsed": false
   },
   "outputs": [
    {
     "data": {
      "text/html": [
       "<div>\n",
       "<table border=\"1\" class=\"dataframe\">\n",
       "  <thead>\n",
       "    <tr style=\"text-align: right;\">\n",
       "      <th>col_0</th>\n",
       "      <th>count</th>\n",
       "    </tr>\n",
       "    <tr>\n",
       "      <th>income_level</th>\n",
       "      <th></th>\n",
       "    </tr>\n",
       "  </thead>\n",
       "  <tbody>\n",
       "    <tr>\n",
       "      <th>0</th>\n",
       "      <td>187141</td>\n",
       "    </tr>\n",
       "    <tr>\n",
       "      <th>1</th>\n",
       "      <td>12382</td>\n",
       "    </tr>\n",
       "  </tbody>\n",
       "</table>\n",
       "</div>"
      ],
      "text/plain": [
       "col_0          count\n",
       "income_level        \n",
       "0             187141\n",
       "1              12382"
      ]
     },
     "execution_count": 11,
     "metadata": {},
     "output_type": "execute_result"
    }
   ],
   "source": [
    "train_table=pd.crosstab(train.income_level,'count')\n",
    "train_table"
   ]
  },
  {
   "cell_type": "code",
   "execution_count": 12,
   "metadata": {
    "collapsed": false
   },
   "outputs": [
    {
     "data": {
      "text/plain": [
       "<matplotlib.axes._subplots.AxesSubplot at 0x1094d71d0>"
      ]
     },
     "execution_count": 12,
     "metadata": {},
     "output_type": "execute_result"
    },
    {
     "data": {
      "image/png": "[encoded data removed]",
      "text/plain": [
       "<matplotlib.figure.Figure at 0x11507fba8>"
      ]
     },
     "metadata": {},
     "output_type": "display_data"
    }
   ],
   "source": [
    "train_table.plot(kind='bar')"
   ]
  },
  {
   "cell_type": "code",
   "execution_count": 13,
   "metadata": {
    "collapsed": false
   },
   "outputs": [
    {
     "data": {
      "text/html": [
       "<div>\n",
       "<table border=\"1\" class=\"dataframe\">\n",
       "  <thead>\n",
       "    <tr style=\"text-align: right;\">\n",
       "      <th>col_0</th>\n",
       "      <th>count</th>\n",
       "    </tr>\n",
       "    <tr>\n",
       "      <th>income_level</th>\n",
       "      <th></th>\n",
       "    </tr>\n",
       "  </thead>\n",
       "  <tbody>\n",
       "    <tr>\n",
       "      <th>0</th>\n",
       "      <td>93.794199</td>\n",
       "    </tr>\n",
       "    <tr>\n",
       "      <th>1</th>\n",
       "      <td>6.205801</td>\n",
       "    </tr>\n",
       "  </tbody>\n",
       "</table>\n",
       "</div>"
      ],
      "text/plain": [
       "col_0             count\n",
       "income_level           \n",
       "0             93.794199\n",
       "1              6.205801"
      ]
     },
     "execution_count": 13,
     "metadata": {},
     "output_type": "execute_result"
    }
   ],
   "source": [
    "train_table / train_table.sum() * 100  # 单变量的比例计算操作"
   ]
  },
  {
   "cell_type": "markdown",
   "metadata": {},
   "source": [
    "#### 0占了近94%，1只有6%，可见数据非常不平衡。换句话说，好的算法将使模型达到94%的accuracy。但我们想要的模型效果，依赖 对少数的几个类 预测得有多好。不在乎的部分 占很大比例，对这部分预测得再好，也还是不在乎。即我们要的是精益求精，不精的随之。"
   ]
  },
  {
   "cell_type": "markdown",
   "metadata": {},
   "source": [
    "### 查看变量类型："
   ]
  },
  {
   "cell_type": "code",
   "execution_count": 14,
   "metadata": {
    "collapsed": false
   },
   "outputs": [
    {
     "data": {
      "text/plain": [
       "age                                  int64\n",
       "class_of_worker                     object\n",
       "industry_code                        int64\n",
       "occupation_code                      int64\n",
       "education                           object\n",
       "wage_per_hour                        int64\n",
       "enrolled_in_edu_inst_lastwk         object\n",
       "marital_status                      object\n",
       "major_industry_code                 object\n",
       "major_occupation_code               object\n",
       "race                                object\n",
       "hispanic_origin                     object\n",
       "sex                                 object\n",
       "member_of_labor_union               object\n",
       "reason_for_unemployment             object\n",
       "full_parttime_employment_stat       object\n",
       "capital_gains                        int64\n",
       "capital_losses                       int64\n",
       "dividend_from_Stocks                 int64\n",
       "tax_filer_status                    object\n",
       "region_of_previous_residence        object\n",
       "state_of_previous_residence         object\n",
       "d_household_family_stat             object\n",
       "d_household_summary                 object\n",
       "migration_msa                       object\n",
       "migration_reg                       object\n",
       "migration_within_reg                object\n",
       "live_1_year_ago                     object\n",
       "migration_sunbelt                   object\n",
       "num_person_Worked_employer           int64\n",
       "family_members_under_18             object\n",
       "country_father                      object\n",
       "country_mother                      object\n",
       "country_self                        object\n",
       "citizenship                         object\n",
       "business_or_self_employed            int64\n",
       "fill_questionnaire_veteran_admin    object\n",
       "veterans_benefits                    int64\n",
       "weeks_worked_in_year                 int64\n",
       "year                                 int64\n",
       "income_level                         int64\n",
       "dtype: object"
      ]
     },
     "execution_count": 14,
     "metadata": {},
     "output_type": "execute_result"
    }
   ],
   "source": [
    "train.dtypes"
   ]
  },
  {
   "cell_type": "markdown",
   "metadata": {},
   "source": [
    "### 拆分出 分类变量和数值变量"
   ]
  },
  {
   "cell_type": "code",
   "execution_count": 15,
   "metadata": {
    "collapsed": false
   },
   "outputs": [],
   "source": [
    "categorical=train.dtypes[train.dtypes=='object']"
   ]
  },
  {
   "cell_type": "code",
   "execution_count": 16,
   "metadata": {
    "collapsed": true
   },
   "outputs": [],
   "source": [
    "categorical_variables=train[categorical.index]"
   ]
  },
  {
   "cell_type": "code",
   "execution_count": 17,
   "metadata": {
    "collapsed": false
   },
   "outputs": [],
   "source": [
    "numerical_variables=train.drop(categorical.index,axis=1)"
   ]
  },
  {
   "cell_type": "markdown",
   "metadata": {},
   "source": [
    "#### 检测缺失值"
   ]
  },
  {
   "cell_type": "code",
   "execution_count": 18,
   "metadata": {
    "collapsed": false
   },
   "outputs": [
    {
     "data": {
      "text/plain": [
       "age                           0\n",
       "industry_code                 0\n",
       "occupation_code               0\n",
       "wage_per_hour                 0\n",
       "capital_gains                 0\n",
       "capital_losses                0\n",
       "dividend_from_Stocks          0\n",
       "num_person_Worked_employer    0\n",
       "business_or_self_employed     0\n",
       "veterans_benefits             0\n",
       "weeks_worked_in_year          0\n",
       "year                          0\n",
       "income_level                  0\n",
       "dtype: int64"
      ]
     },
     "execution_count": 18,
     "metadata": {},
     "output_type": "execute_result"
    }
   ],
   "source": [
    "numerical_variables.isnull().sum()"
   ]
  },
  {
   "cell_type": "code",
   "execution_count": 19,
   "metadata": {
    "collapsed": false
   },
   "outputs": [
    {
     "data": {
      "text/plain": [
       "class_of_worker                         0\n",
       "education                               0\n",
       "enrolled_in_edu_inst_lastwk             0\n",
       "marital_status                          0\n",
       "major_industry_code                     0\n",
       "major_occupation_code                   0\n",
       "race                                    0\n",
       "hispanic_origin                       874\n",
       "sex                                     0\n",
       "member_of_labor_union                   0\n",
       "reason_for_unemployment                 0\n",
       "full_parttime_employment_stat           0\n",
       "tax_filer_status                        0\n",
       "region_of_previous_residence            0\n",
       "state_of_previous_residence           708\n",
       "d_household_family_stat                 0\n",
       "d_household_summary                     0\n",
       "migration_msa                       99696\n",
       "migration_reg                       99696\n",
       "migration_within_reg                99696\n",
       "live_1_year_ago                         0\n",
       "migration_sunbelt                   99696\n",
       "family_members_under_18                 0\n",
       "country_father                       6713\n",
       "country_mother                       6119\n",
       "country_self                         3393\n",
       "citizenship                             0\n",
       "fill_questionnaire_veteran_admin        0\n",
       "dtype: int64"
      ]
     },
     "execution_count": 19,
     "metadata": {},
     "output_type": "execute_result"
    }
   ],
   "source": [
    "categorical_variables.isnull().sum()"
   ]
  },
  {
   "cell_type": "markdown",
   "metadata": {},
   "source": [
    "### 探索数值变量"
   ]
  },
  {
   "cell_type": "code",
   "execution_count": 20,
   "metadata": {
    "collapsed": false
   },
   "outputs": [
    {
     "data": {
      "text/plain": [
       "count    199523.000000\n",
       "mean         34.494199\n",
       "std          22.310895\n",
       "min           0.000000\n",
       "25%          15.000000\n",
       "50%          33.000000\n",
       "75%          50.000000\n",
       "max          90.000000\n",
       "Name: age, dtype: float64"
      ]
     },
     "execution_count": 20,
     "metadata": {},
     "output_type": "execute_result"
    }
   ],
   "source": [
    "# 年龄\n",
    "numerical_variables.age.describe()"
   ]
  },
  {
   "cell_type": "code",
   "execution_count": 21,
   "metadata": {
    "collapsed": false,
    "scrolled": true
   },
   "outputs": [
    {
     "data": {
      "text/plain": [
       "<matplotlib.axes._subplots.AxesSubplot at 0x1150e05c0>"
      ]
     },
     "execution_count": 21,
     "metadata": {},
     "output_type": "execute_result"
    },
    {
     "data": {
      "image/png": "[encoded data removed]",
      "text/plain": [
       "<matplotlib.figure.Figure at 0x1033890f0>"
      ]
     },
     "metadata": {},
     "output_type": "display_data"
    }
   ],
   "source": [
    "numerical_variables.age.hist(bins=30)"
   ]
  },
  {
   "cell_type": "markdown",
   "metadata": {},
   "source": [
    "基本可以看出，随着年龄增加，对应的频数减少。正常情况下，20岁以下的人能挣 >50K 吗？ 所以需要对年龄变量进行分区。"
   ]
  },
  {
   "cell_type": "code",
   "execution_count": 22,
   "metadata": {
    "collapsed": false
   },
   "outputs": [
    {
     "data": {
      "text/html": [
       "<div>\n",
       "<table border=\"1\" class=\"dataframe\">\n",
       "  <thead>\n",
       "    <tr style=\"text-align: right;\">\n",
       "      <th></th>\n",
       "      <th>capital_gains</th>\n",
       "      <th>capital_losses</th>\n",
       "    </tr>\n",
       "  </thead>\n",
       "  <tbody>\n",
       "    <tr>\n",
       "      <th>count</th>\n",
       "      <td>199523.00000</td>\n",
       "      <td>199523.000000</td>\n",
       "    </tr>\n",
       "    <tr>\n",
       "      <th>mean</th>\n",
       "      <td>434.71899</td>\n",
       "      <td>37.313788</td>\n",
       "    </tr>\n",
       "    <tr>\n",
       "      <th>std</th>\n",
       "      <td>4697.53128</td>\n",
       "      <td>271.896428</td>\n",
       "    </tr>\n",
       "    <tr>\n",
       "      <th>min</th>\n",
       "      <td>0.00000</td>\n",
       "      <td>0.000000</td>\n",
       "    </tr>\n",
       "    <tr>\n",
       "      <th>25%</th>\n",
       "      <td>0.00000</td>\n",
       "      <td>0.000000</td>\n",
       "    </tr>\n",
       "    <tr>\n",
       "      <th>50%</th>\n",
       "      <td>0.00000</td>\n",
       "      <td>0.000000</td>\n",
       "    </tr>\n",
       "    <tr>\n",
       "      <th>75%</th>\n",
       "      <td>0.00000</td>\n",
       "      <td>0.000000</td>\n",
       "    </tr>\n",
       "    <tr>\n",
       "      <th>max</th>\n",
       "      <td>99999.00000</td>\n",
       "      <td>4608.000000</td>\n",
       "    </tr>\n",
       "  </tbody>\n",
       "</table>\n",
       "</div>"
      ],
      "text/plain": [
       "       capital_gains  capital_losses\n",
       "count   199523.00000   199523.000000\n",
       "mean       434.71899       37.313788\n",
       "std       4697.53128      271.896428\n",
       "min          0.00000        0.000000\n",
       "25%          0.00000        0.000000\n",
       "50%          0.00000        0.000000\n",
       "75%          0.00000        0.000000\n",
       "max      99999.00000     4608.000000"
      ]
     },
     "execution_count": 22,
     "metadata": {},
     "output_type": "execute_result"
    }
   ],
   "source": [
    "# 资本收益与损失\n",
    "numerical_variables[['capital_gains','capital_losses']].describe()"
   ]
  },
  {
   "cell_type": "code",
   "execution_count": 23,
   "metadata": {
    "collapsed": false
   },
   "outputs": [
    {
     "name": "stdout",
     "output_type": "stream",
     "text": [
      "18.990822344\n"
     ]
    },
    {
     "data": {
      "image/png": "[encoded data removed]",
      "text/plain": [
       "<matplotlib.figure.Figure at 0x1122cfd30>"
      ]
     },
     "metadata": {},
     "output_type": "display_data"
    }
   ],
   "source": [
    "# 观察上表发现数值分布很极端：gains:均值为434.7，标准差极大，最小值、25%、50%、75%均为0，最大值却有99999，意味着其中极大部分为0，\n",
    "# 画箱线图无效（5点中4点为0，极差太大）\n",
    "numerical_variables['capital_gains'].plot(kind='density')\n",
    "print(numerical_variables.capital_gains.skew())"
   ]
  },
  {
   "cell_type": "code",
   "execution_count": 24,
   "metadata": {
    "collapsed": false
   },
   "outputs": [
    {
     "name": "stdout",
     "output_type": "stream",
     "text": [
      "7.63256469992\n"
     ]
    },
    {
     "data": {
      "image/png": "[encoded data removed]",
      "text/plain": [
       "<matplotlib.figure.Figure at 0x1122da828>"
      ]
     },
     "metadata": {},
     "output_type": "display_data"
    }
   ],
   "source": [
    "numerical_variables['capital_losses'].plot(kind='density')\n",
    "print(numerical_variables.capital_losses.skew())"
   ]
  },
  {
   "cell_type": "markdown",
   "metadata": {},
   "source": [
    "发现两个变量都极端右偏。在偏态分布中，需要normalizing. 这里我们还无法观察得出什么显著的判断，需要更深入地探索这两个变量。一个做法是，检查unique values. **如果unique values 少的话，我们就可以将分布制成表格：**"
   ]
  },
  {
   "cell_type": "code",
   "execution_count": 25,
   "metadata": {
    "collapsed": false
   },
   "outputs": [
    {
     "name": "stdout",
     "output_type": "stream",
     "text": [
      "132\n",
      "113\n"
     ]
    }
   ],
   "source": [
    "print(len(numerical_variables.capital_gains.unique()))\n",
    "print(len(numerical_variables.capital_losses.unique()))"
   ]
  },
  {
   "cell_type": "markdown",
   "metadata": {},
   "source": [
    "相比近20万观测值，132,113算很少了。"
   ]
  },
  {
   "cell_type": "code",
   "execution_count": 26,
   "metadata": {
    "collapsed": false
   },
   "outputs": [],
   "source": [
    "gain_tab=pd.crosstab(numerical_variables.capital_gains,'count')\n",
    "losses_tab=pd.crosstab(numerical_variables.capital_losses,'count')"
   ]
  },
  {
   "cell_type": "code",
   "execution_count": 27,
   "metadata": {
    "collapsed": false
   },
   "outputs": [
    {
     "data": {
      "text/html": [
       "<div>\n",
       "<table border=\"1\" class=\"dataframe\">\n",
       "  <thead>\n",
       "    <tr style=\"text-align: right;\">\n",
       "      <th>col_0</th>\n",
       "      <th>count</th>\n",
       "    </tr>\n",
       "    <tr>\n",
       "      <th>capital_losses</th>\n",
       "      <th></th>\n",
       "    </tr>\n",
       "  </thead>\n",
       "  <tbody>\n",
       "    <tr>\n",
       "      <th>0</th>\n",
       "      <td>195617</td>\n",
       "    </tr>\n",
       "    <tr>\n",
       "      <th>155</th>\n",
       "      <td>1</td>\n",
       "    </tr>\n",
       "    <tr>\n",
       "      <th>213</th>\n",
       "      <td>10</td>\n",
       "    </tr>\n",
       "    <tr>\n",
       "      <th>323</th>\n",
       "      <td>10</td>\n",
       "    </tr>\n",
       "    <tr>\n",
       "      <th>419</th>\n",
       "      <td>29</td>\n",
       "    </tr>\n",
       "  </tbody>\n",
       "</table>\n",
       "</div>"
      ],
      "text/plain": [
       "col_0            count\n",
       "capital_losses        \n",
       "0               195617\n",
       "155                  1\n",
       "213                 10\n",
       "323                 10\n",
       "419                 29"
      ]
     },
     "execution_count": 27,
     "metadata": {},
     "output_type": "execute_result"
    }
   ],
   "source": [
    "losses_tab.head()"
   ]
  },
  {
   "cell_type": "markdown",
   "metadata": {},
   "source": [
    "#### 发现0有196717个，极大影响分布。极差太大，箱线图无法反映异常值。尝试.describe, sort_values："
   ]
  },
  {
   "cell_type": "code",
   "execution_count": 28,
   "metadata": {
    "collapsed": false
   },
   "outputs": [
    {
     "data": {
      "text/html": [
       "<div>\n",
       "<table border=\"1\" class=\"dataframe\">\n",
       "  <thead>\n",
       "    <tr style=\"text-align: right;\">\n",
       "      <th>col_0</th>\n",
       "      <th>count</th>\n",
       "    </tr>\n",
       "  </thead>\n",
       "  <tbody>\n",
       "    <tr>\n",
       "      <th>count</th>\n",
       "      <td>113.000000</td>\n",
       "    </tr>\n",
       "    <tr>\n",
       "      <th>mean</th>\n",
       "      <td>1765.690265</td>\n",
       "    </tr>\n",
       "    <tr>\n",
       "      <th>std</th>\n",
       "      <td>18398.932625</td>\n",
       "    </tr>\n",
       "    <tr>\n",
       "      <th>min</th>\n",
       "      <td>1.000000</td>\n",
       "    </tr>\n",
       "    <tr>\n",
       "      <th>25%</th>\n",
       "      <td>7.000000</td>\n",
       "    </tr>\n",
       "    <tr>\n",
       "      <th>50%</th>\n",
       "      <td>13.000000</td>\n",
       "    </tr>\n",
       "    <tr>\n",
       "      <th>75%</th>\n",
       "      <td>38.000000</td>\n",
       "    </tr>\n",
       "    <tr>\n",
       "      <th>max</th>\n",
       "      <td>195617.000000</td>\n",
       "    </tr>\n",
       "  </tbody>\n",
       "</table>\n",
       "</div>"
      ],
      "text/plain": [
       "col_0          count\n",
       "count     113.000000\n",
       "mean     1765.690265\n",
       "std     18398.932625\n",
       "min         1.000000\n",
       "25%         7.000000\n",
       "50%        13.000000\n",
       "75%        38.000000\n",
       "max    195617.000000"
      ]
     },
     "execution_count": 28,
     "metadata": {},
     "output_type": "execute_result"
    }
   ],
   "source": [
    "losses_tab.describe()"
   ]
  },
  {
   "cell_type": "code",
   "execution_count": 30,
   "metadata": {
    "collapsed": false
   },
   "outputs": [
    {
     "data": {
      "text/html": [
       "<div>\n",
       "<table border=\"1\" class=\"dataframe\">\n",
       "  <thead>\n",
       "    <tr style=\"text-align: right;\">\n",
       "      <th>col_0</th>\n",
       "      <th>count</th>\n",
       "    </tr>\n",
       "    <tr>\n",
       "      <th>capital_losses</th>\n",
       "      <th></th>\n",
       "    </tr>\n",
       "  </thead>\n",
       "  <tbody>\n",
       "    <tr>\n",
       "      <th>0</th>\n",
       "      <td>195617</td>\n",
       "    </tr>\n",
       "    <tr>\n",
       "      <th>1902</th>\n",
       "      <td>407</td>\n",
       "    </tr>\n",
       "    <tr>\n",
       "      <th>1977</th>\n",
       "      <td>381</td>\n",
       "    </tr>\n",
       "    <tr>\n",
       "      <th>1887</th>\n",
       "      <td>364</td>\n",
       "    </tr>\n",
       "    <tr>\n",
       "      <th>1602</th>\n",
       "      <td>193</td>\n",
       "    </tr>\n",
       "  </tbody>\n",
       "</table>\n",
       "</div>"
      ],
      "text/plain": [
       "col_0            count\n",
       "capital_losses        \n",
       "0               195617\n",
       "1902               407\n",
       "1977               381\n",
       "1887               364\n",
       "1602               193"
      ]
     },
     "execution_count": 30,
     "metadata": {},
     "output_type": "execute_result"
    }
   ],
   "source": [
    "losses_tab.sort_values(by='count',ascending=False).head()"
   ]
  },
  {
   "cell_type": "markdown",
   "metadata": {},
   "source": [
    "可以排除0试试。"
   ]
  },
  {
   "cell_type": "markdown",
   "metadata": {},
   "source": [
    "#### 在分类问题中，我们也可以画【散点图】来观察【数值变量】间的相关性，看看0、1的分布聚集情况："
   ]
  },
  {
   "cell_type": "code",
   "execution_count": 31,
   "metadata": {
    "collapsed": false
   },
   "outputs": [
    {
     "data": {
      "text/plain": [
       "<matplotlib.axes._subplots.AxesSubplot at 0x1275d9e10>"
      ]
     },
     "execution_count": 31,
     "metadata": {},
     "output_type": "execute_result"
    },
    {
     "data": {
      "image/png": "[encoded data removed]",
      "text/plain": [
       "<matplotlib.figure.Figure at 0x118830e10>"
      ]
     },
     "metadata": {},
     "output_type": "display_data"
    }
   ],
   "source": [
    "numerical_variables.plot(kind='scatter',\n",
    "                         x='age',\n",
    "                         y='wage_per_hour',\n",
    "                         c='income_level',   # 只能是数值列[0,1]\n",
    "                         cmap='spring',     # 还可选cool,summer,Oranges等颜色风格\n",
    "                         figsize=(8,8),\n",
    "                         xlim=(0,100),\n",
    "                         ylim=(0,10000),\n",
    "                         )"
   ]
  },
  {
   "cell_type": "markdown",
   "metadata": {},
   "source": [
    "观察发现：\n",
    "\n",
    "时薪 < 2000占绝大多数，且其中绝大部分收入水平 < 50K、标记为0；\n",
    "\n",
    "年龄 < 18岁 及 > 80岁的，时薪为0，可以理解，佐证了之前对年龄进行分区的想法。\n",
    "\n",
    "**收入水平> 50K的黄点，其时薪并不是特别高，一般分布在2000-4000；特高时薪的反而没有太多黄点**"
   ]
  },
  {
   "cell_type": "markdown",
   "metadata": {},
   "source": [
    "我们需要多角度地探索变量的潜在趋向。建议对所有变量作图，看看它们的分布情况。这将为特征工程提供足够多的思路。"
   ]
  },
  {
   "cell_type": "markdown",
   "metadata": {},
   "source": [
    "#### 类似的，也可以对分类变量作图："
   ]
  },
  {
   "cell_type": "code",
   "execution_count": 32,
   "metadata": {
    "collapsed": false
   },
   "outputs": [
    {
     "data": {
      "text/plain": [
       "class_of_worker                         0\n",
       "education                               0\n",
       "enrolled_in_edu_inst_lastwk             0\n",
       "marital_status                          0\n",
       "major_industry_code                     0\n",
       "major_occupation_code                   0\n",
       "race                                    0\n",
       "hispanic_origin                       874\n",
       "sex                                     0\n",
       "member_of_labor_union                   0\n",
       "reason_for_unemployment                 0\n",
       "full_parttime_employment_stat           0\n",
       "tax_filer_status                        0\n",
       "region_of_previous_residence            0\n",
       "state_of_previous_residence           708\n",
       "d_household_family_stat                 0\n",
       "d_household_summary                     0\n",
       "migration_msa                       99696\n",
       "migration_reg                       99696\n",
       "migration_within_reg                99696\n",
       "live_1_year_ago                         0\n",
       "migration_sunbelt                   99696\n",
       "family_members_under_18                 0\n",
       "country_father                       6713\n",
       "country_mother                       6119\n",
       "country_self                         3393\n",
       "citizenship                             0\n",
       "fill_questionnaire_veteran_admin        0\n",
       "dtype: int64"
      ]
     },
     "execution_count": 32,
     "metadata": {},
     "output_type": "execute_result"
    }
   ],
   "source": [
    "categorical_variables.isnull().sum()"
   ]
  },
  {
   "cell_type": "markdown",
   "metadata": {},
   "source": [
    "#### 探索class_of_worker:"
   ]
  },
  {
   "cell_type": "code",
   "execution_count": 33,
   "metadata": {
    "collapsed": false
   },
   "outputs": [
    {
     "data": {
      "text/plain": [
       "Not in universe                   100245\n",
       "Private                            72028\n",
       "Self-employed-not incorporated      8445\n",
       "Local government                    7784\n",
       "State government                    4227\n",
       "Self-employed-incorporated          3265\n",
       "Federal government                  2925\n",
       "Never worked                         439\n",
       "Without pay                          165\n",
       "Name: class_of_worker, dtype: int64"
      ]
     },
     "execution_count": 33,
     "metadata": {},
     "output_type": "execute_result"
    }
   ],
   "source": [
    "c_o_w=categorical_variables.class_of_worker.value_counts()\n",
    "c_o_w"
   ]
  },
  {
   "cell_type": "code",
   "execution_count": 34,
   "metadata": {
    "collapsed": false,
    "scrolled": true
   },
   "outputs": [
    {
     "data": {
      "text/plain": [
       "<matplotlib.axes._subplots.AxesSubplot at 0x115375630>"
      ]
     },
     "execution_count": 34,
     "metadata": {},
     "output_type": "execute_result"
    },
    {
     "data": {
      "image/png": "[encoded data removed]",
      "text/plain": [
       "<matplotlib.figure.Figure at 0x11533bd30>"
      ]
     },
     "metadata": {},
     "output_type": "display_data"
    }
   ],
   "source": [
    "c_o_w.plot(kind='bar',figsize=(7,7))"
   ]
  },
  {
   "cell_type": "code",
   "execution_count": 35,
   "metadata": {
    "collapsed": true
   },
   "outputs": [],
   "source": [
    "gb_il=train.groupby('income_level')  # 可以用groupby 代替制表进行快速探索观察"
   ]
  },
  {
   "cell_type": "code",
   "execution_count": 36,
   "metadata": {
    "collapsed": false
   },
   "outputs": [
    {
     "data": {
      "text/plain": [
       "income_level  class_of_worker               \n",
       "0             Not in universe                   99341\n",
       "              Private                           64706\n",
       "              Self-employed-not incorporated     7355\n",
       "              Local government                   6937\n",
       "              State government                   3742\n",
       "              Federal government                 2328\n",
       "              Self-employed-incorporated         2131\n",
       "              Never worked                        437\n",
       "              Without pay                         164\n",
       "1             Private                            7322\n",
       "              Self-employed-incorporated         1134\n",
       "              Self-employed-not incorporated     1090\n",
       "              Not in universe                     904\n",
       "              Local government                    847\n",
       "              Federal government                  597\n",
       "              State government                    485\n",
       "              Never worked                          2\n",
       "              Without pay                           1\n",
       "dtype: int64"
      ]
     },
     "execution_count": 36,
     "metadata": {},
     "output_type": "execute_result"
    }
   ],
   "source": [
    "gb_il.class_of_worker.value_counts()"
   ]
  },
  {
   "cell_type": "markdown",
   "metadata": {},
   "source": [
    "尝试用groupby"
   ]
  },
  {
   "cell_type": "code",
   "execution_count": 37,
   "metadata": {
    "collapsed": false
   },
   "outputs": [
    {
     "data": {
      "text/plain": [
       "<matplotlib.axes._subplots.AxesSubplot at 0x116503320>"
      ]
     },
     "execution_count": 37,
     "metadata": {},
     "output_type": "execute_result"
    },
    {
     "data": {
      "image/png": "[encoded data removed]",
      "text/plain": [
       "<matplotlib.figure.Figure at 0x116e0f908>"
      ]
     },
     "metadata": {},
     "output_type": "display_data"
    }
   ],
   "source": [
    "gb_il.class_of_worker.value_counts().plot(kind='bar')  # 用groupby可行，但效果不理想，包括转置"
   ]
  },
  {
   "cell_type": "code",
   "execution_count": 38,
   "metadata": {
    "collapsed": false
   },
   "outputs": [
    {
     "data": {
      "text/html": [
       "<div>\n",
       "<table border=\"1\" class=\"dataframe\">\n",
       "  <thead>\n",
       "    <tr style=\"text-align: right;\">\n",
       "      <th>class_of_worker</th>\n",
       "      <th>Federal government</th>\n",
       "      <th>Local government</th>\n",
       "      <th>Never worked</th>\n",
       "      <th>Not in universe</th>\n",
       "      <th>Private</th>\n",
       "      <th>Self-employed-incorporated</th>\n",
       "      <th>Self-employed-not incorporated</th>\n",
       "      <th>State government</th>\n",
       "      <th>Without pay</th>\n",
       "    </tr>\n",
       "    <tr>\n",
       "      <th>income_level</th>\n",
       "      <th></th>\n",
       "      <th></th>\n",
       "      <th></th>\n",
       "      <th></th>\n",
       "      <th></th>\n",
       "      <th></th>\n",
       "      <th></th>\n",
       "      <th></th>\n",
       "      <th></th>\n",
       "    </tr>\n",
       "  </thead>\n",
       "  <tbody>\n",
       "    <tr>\n",
       "      <th>0</th>\n",
       "      <td>2328</td>\n",
       "      <td>6937</td>\n",
       "      <td>437</td>\n",
       "      <td>99341</td>\n",
       "      <td>64706</td>\n",
       "      <td>2131</td>\n",
       "      <td>7355</td>\n",
       "      <td>3742</td>\n",
       "      <td>164</td>\n",
       "    </tr>\n",
       "    <tr>\n",
       "      <th>1</th>\n",
       "      <td>597</td>\n",
       "      <td>847</td>\n",
       "      <td>2</td>\n",
       "      <td>904</td>\n",
       "      <td>7322</td>\n",
       "      <td>1134</td>\n",
       "      <td>1090</td>\n",
       "      <td>485</td>\n",
       "      <td>1</td>\n",
       "    </tr>\n",
       "  </tbody>\n",
       "</table>\n",
       "</div>"
      ],
      "text/plain": [
       "class_of_worker  Federal government  Local government  Never worked  \\\n",
       "income_level                                                          \n",
       "0                              2328              6937           437   \n",
       "1                               597               847             2   \n",
       "\n",
       "class_of_worker  Not in universe  Private  Self-employed-incorporated  \\\n",
       "income_level                                                            \n",
       "0                          99341    64706                        2131   \n",
       "1                            904     7322                        1134   \n",
       "\n",
       "class_of_worker  Self-employed-not incorporated  State government  Without pay  \n",
       "income_level                                                                    \n",
       "0                                          7355              3742          164  \n",
       "1                                          1090               485            1  "
      ]
     },
     "execution_count": 38,
     "metadata": {},
     "output_type": "execute_result"
    }
   ],
   "source": [
    "cowtab=pd.crosstab(index=train.income_level,   # 建议用转置.T 检查两个效果，包括作图\n",
    "            columns=train.class_of_worker)  \n",
    "cowtab"
   ]
  },
  {
   "cell_type": "code",
   "execution_count": 39,
   "metadata": {
    "collapsed": false
   },
   "outputs": [],
   "source": [
    "#cowtab.boxplot()  箱线图效果不好 <=> 数据不均衡"
   ]
  },
  {
   "cell_type": "code",
   "execution_count": 42,
   "metadata": {
    "collapsed": false
   },
   "outputs": [
    {
     "data": {
      "text/plain": [
       "<matplotlib.axes._subplots.AxesSubplot at 0x1033efc88>"
      ]
     },
     "execution_count": 42,
     "metadata": {},
     "output_type": "execute_result"
    },
    {
     "data": {
      "image/png": "[encoded data removed]",
      "text/plain": [
       "<matplotlib.figure.Figure at 0x116d6bb00>"
      ]
     },
     "metadata": {},
     "output_type": "display_data"
    }
   ],
   "source": [
    "cowtab.T.plot(kind='bar',           \n",
    "            figsize=(5,5),\n",
    "             fontsize=15)        # x,y轴的字体大小"
   ]
  },
  {
   "cell_type": "markdown",
   "metadata": {},
   "source": [
    "Not in universe ：Cases that are outside of the universe for a variable are labeled \"NIU\" on the codes page.这部分数据没有详细的信息，我们可以假想这部分人当时心情不好，就随便填了下调查问卷。\n",
    "\n",
    "\n",
    "高收入水平和低收入水平中，private 相对其他class_of_worker都是最多的；注意语义逻辑，充分，必要条件。能不能说private，就高收入。以及能否泛化？\n",
    "\n",
    "class_of_worker 这个变量看起来也很不均衡，即似乎只有2类水平（频数大于或小于某个水平）可以考量。这种情况下，比较好的做法是：把频数低于总数5%的类集合起来。\n",
    "\n",
    "\n",
    "**时刻警惕：对每一个变量，要考虑现实场景，当时采集该数据时的场景，数据的可靠性，人们“不会回答什么”，而不是已有的“会回答什么”；分析出的结果仅仅基于这个统计数据，直接间接？因果关系？必须考虑没统计进来的数据。当总结时，想一下：没有统计进来的数据有哪些。**"
   ]
  },
  {
   "cell_type": "markdown",
   "metadata": {},
   "source": [
    "#### 探索education"
   ]
  },
  {
   "cell_type": "code",
   "execution_count": 43,
   "metadata": {
    "collapsed": false
   },
   "outputs": [
    {
     "data": {
      "text/plain": [
       "count                   199523\n",
       "unique                      17\n",
       "top       High school graduate\n",
       "freq                     48407\n",
       "Name: education, dtype: object"
      ]
     },
     "execution_count": 43,
     "metadata": {},
     "output_type": "execute_result"
    }
   ],
   "source": [
    "train.education.describe()"
   ]
  },
  {
   "cell_type": "code",
   "execution_count": 44,
   "metadata": {
    "collapsed": false
   },
   "outputs": [
    {
     "data": {
      "text/html": [
       "<div>\n",
       "<table border=\"1\" class=\"dataframe\">\n",
       "  <thead>\n",
       "    <tr style=\"text-align: right;\">\n",
       "      <th>income_level</th>\n",
       "      <th>0</th>\n",
       "      <th>1</th>\n",
       "    </tr>\n",
       "    <tr>\n",
       "      <th>education</th>\n",
       "      <th></th>\n",
       "      <th></th>\n",
       "    </tr>\n",
       "  </thead>\n",
       "  <tbody>\n",
       "    <tr>\n",
       "      <th>10th grade</th>\n",
       "      <td>7495</td>\n",
       "      <td>62</td>\n",
       "    </tr>\n",
       "    <tr>\n",
       "      <th>11th grade</th>\n",
       "      <td>6806</td>\n",
       "      <td>70</td>\n",
       "    </tr>\n",
       "    <tr>\n",
       "      <th>12th grade no diploma</th>\n",
       "      <td>2092</td>\n",
       "      <td>34</td>\n",
       "    </tr>\n",
       "    <tr>\n",
       "      <th>1st 2nd 3rd or 4th grade</th>\n",
       "      <td>1786</td>\n",
       "      <td>13</td>\n",
       "    </tr>\n",
       "    <tr>\n",
       "      <th>5th or 6th grade</th>\n",
       "      <td>3255</td>\n",
       "      <td>22</td>\n",
       "    </tr>\n",
       "    <tr>\n",
       "      <th>7th and 8th grade</th>\n",
       "      <td>7935</td>\n",
       "      <td>72</td>\n",
       "    </tr>\n",
       "    <tr>\n",
       "      <th>9th grade</th>\n",
       "      <td>6192</td>\n",
       "      <td>38</td>\n",
       "    </tr>\n",
       "    <tr>\n",
       "      <th>Associates degree-academic program</th>\n",
       "      <td>3951</td>\n",
       "      <td>412</td>\n",
       "    </tr>\n",
       "    <tr>\n",
       "      <th>Associates degree-occup /vocational</th>\n",
       "      <td>4945</td>\n",
       "      <td>413</td>\n",
       "    </tr>\n",
       "    <tr>\n",
       "      <th>Bachelors degree(BA AB BS)</th>\n",
       "      <td>15950</td>\n",
       "      <td>3915</td>\n",
       "    </tr>\n",
       "    <tr>\n",
       "      <th>Children</th>\n",
       "      <td>47422</td>\n",
       "      <td>0</td>\n",
       "    </tr>\n",
       "    <tr>\n",
       "      <th>Doctorate degree(PhD EdD)</th>\n",
       "      <td>606</td>\n",
       "      <td>657</td>\n",
       "    </tr>\n",
       "    <tr>\n",
       "      <th>High school graduate</th>\n",
       "      <td>46528</td>\n",
       "      <td>1879</td>\n",
       "    </tr>\n",
       "    <tr>\n",
       "      <th>Less than 1st grade</th>\n",
       "      <td>818</td>\n",
       "      <td>1</td>\n",
       "    </tr>\n",
       "    <tr>\n",
       "      <th>Masters degree(MA MS MEng MEd MSW MBA)</th>\n",
       "      <td>4503</td>\n",
       "      <td>2038</td>\n",
       "    </tr>\n",
       "    <tr>\n",
       "      <th>Prof school degree (MD DDS DVM LLB JD)</th>\n",
       "      <td>824</td>\n",
       "      <td>969</td>\n",
       "    </tr>\n",
       "    <tr>\n",
       "      <th>Some college but no degree</th>\n",
       "      <td>26033</td>\n",
       "      <td>1787</td>\n",
       "    </tr>\n",
       "  </tbody>\n",
       "</table>\n",
       "</div>"
      ],
      "text/plain": [
       "income_level                                0     1\n",
       "education                                          \n",
       "10th grade                               7495    62\n",
       "11th grade                               6806    70\n",
       "12th grade no diploma                    2092    34\n",
       "1st 2nd 3rd or 4th grade                 1786    13\n",
       "5th or 6th grade                         3255    22\n",
       "7th and 8th grade                        7935    72\n",
       "9th grade                                6192    38\n",
       "Associates degree-academic program       3951   412\n",
       "Associates degree-occup /vocational      4945   413\n",
       "Bachelors degree(BA AB BS)              15950  3915\n",
       "Children                                47422     0\n",
       "Doctorate degree(PhD EdD)                 606   657\n",
       "High school graduate                    46528  1879\n",
       "Less than 1st grade                       818     1\n",
       "Masters degree(MA MS MEng MEd MSW MBA)   4503  2038\n",
       "Prof school degree (MD DDS DVM LLB JD)    824   969\n",
       "Some college but no degree              26033  1787"
      ]
     },
     "execution_count": 44,
     "metadata": {},
     "output_type": "execute_result"
    }
   ],
   "source": [
    "edutab=pd.crosstab(index=train.education,\n",
    "                   columns=train.income_level)\n",
    "edutab"
   ]
  },
  {
   "cell_type": "code",
   "execution_count": 45,
   "metadata": {
    "collapsed": false
   },
   "outputs": [
    {
     "data": {
      "text/plain": [
       "<matplotlib.axes._subplots.AxesSubplot at 0x1152ef780>"
      ]
     },
     "execution_count": 45,
     "metadata": {},
     "output_type": "execute_result"
    },
    {
     "data": {
      "image/png": "[encoded data removed]",
      "text/plain": [
       "<matplotlib.figure.Figure at 0x1152dcba8>"
      ]
     },
     "metadata": {},
     "output_type": "display_data"
    }
   ],
   "source": [
    "edutab.plot(kind='bar',\n",
    "            figsize=(5,5),\n",
    "            fontsize=15)"
   ]
  },
  {
   "cell_type": "markdown",
   "metadata": {},
   "source": [
    "小孩0收入是显然的。\n",
    "\n",
    "**我们关心的是蓝色的income_level为1的部分**：高收入人群中，学士学历的最多；或者说，学士学历【较】其他学历，有最多的高收入水平【人数】。（不能得出“因为”学士学历，“所以”高收入“。"
   ]
  },
  {
   "cell_type": "markdown",
   "metadata": {},
   "source": [
    "## 3.数据清洗\n",
    "* 缺失值处理\n",
    "* 高相关（数值）变量处理"
   ]
  },
  {
   "cell_type": "markdown",
   "metadata": {},
   "source": [
    "### 数值数据：\n",
    "缺失值处理"
   ]
  },
  {
   "cell_type": "code",
   "execution_count": 46,
   "metadata": {
    "collapsed": false
   },
   "outputs": [
    {
     "data": {
      "text/plain": [
       "age                           0\n",
       "industry_code                 0\n",
       "occupation_code               0\n",
       "wage_per_hour                 0\n",
       "capital_gains                 0\n",
       "capital_losses                0\n",
       "dividend_from_Stocks          0\n",
       "num_person_Worked_employer    0\n",
       "business_or_self_employed     0\n",
       "veterans_benefits             0\n",
       "weeks_worked_in_year          0\n",
       "year                          0\n",
       "income_level                  0\n",
       "dtype: int64"
      ]
     },
     "execution_count": 46,
     "metadata": {},
     "output_type": "execute_result"
    }
   ],
   "source": [
    "numerical_variables.isnull().sum()  # 检测缺失值"
   ]
  },
  {
   "cell_type": "markdown",
   "metadata": {},
   "source": [
    "数值变量中都没有缺失值，喜闻乐见。"
   ]
  },
  {
   "cell_type": "markdown",
   "metadata": {},
   "source": [
    "### 高相关变量处理"
   ]
  },
  {
   "cell_type": "code",
   "execution_count": 47,
   "metadata": {
    "collapsed": false,
    "scrolled": true
   },
   "outputs": [
    {
     "data": {
      "text/html": [
       "<div>\n",
       "<table border=\"1\" class=\"dataframe\">\n",
       "  <thead>\n",
       "    <tr style=\"text-align: right;\">\n",
       "      <th></th>\n",
       "      <th>age</th>\n",
       "      <th>industry_code</th>\n",
       "      <th>occupation_code</th>\n",
       "      <th>wage_per_hour</th>\n",
       "      <th>capital_gains</th>\n",
       "      <th>capital_losses</th>\n",
       "      <th>dividend_from_Stocks</th>\n",
       "      <th>num_person_Worked_employer</th>\n",
       "      <th>business_or_self_employed</th>\n",
       "      <th>veterans_benefits</th>\n",
       "      <th>weeks_worked_in_year</th>\n",
       "      <th>year</th>\n",
       "      <th>income_level</th>\n",
       "    </tr>\n",
       "  </thead>\n",
       "  <tbody>\n",
       "    <tr>\n",
       "      <th>age</th>\n",
       "      <td>1.000000</td>\n",
       "      <td>0.157822</td>\n",
       "      <td>0.117414</td>\n",
       "      <td>0.036938</td>\n",
       "      <td>0.053590</td>\n",
       "      <td>0.063351</td>\n",
       "      <td>0.104976</td>\n",
       "      <td>0.140887</td>\n",
       "      <td>-0.002265</td>\n",
       "      <td>0.674844</td>\n",
       "      <td>0.206181</td>\n",
       "      <td>0.004413</td>\n",
       "      <td>0.135720</td>\n",
       "    </tr>\n",
       "    <tr>\n",
       "      <th>industry_code</th>\n",
       "      <td>0.157822</td>\n",
       "      <td>1.000000</td>\n",
       "      <td>0.563493</td>\n",
       "      <td>0.165980</td>\n",
       "      <td>0.066017</td>\n",
       "      <td>0.072586</td>\n",
       "      <td>0.012774</td>\n",
       "      <td>0.642096</td>\n",
       "      <td>0.252694</td>\n",
       "      <td>0.476475</td>\n",
       "      <td>0.754472</td>\n",
       "      <td>0.003430</td>\n",
       "      <td>0.196190</td>\n",
       "    </tr>\n",
       "    <tr>\n",
       "      <th>occupation_code</th>\n",
       "      <td>0.117414</td>\n",
       "      <td>0.563493</td>\n",
       "      <td>1.000000</td>\n",
       "      <td>0.194498</td>\n",
       "      <td>0.002534</td>\n",
       "      <td>0.043680</td>\n",
       "      <td>-0.026726</td>\n",
       "      <td>0.515554</td>\n",
       "      <td>0.228952</td>\n",
       "      <td>0.438680</td>\n",
       "      <td>0.655613</td>\n",
       "      <td>-0.003140</td>\n",
       "      <td>0.013414</td>\n",
       "    </tr>\n",
       "    <tr>\n",
       "      <th>wage_per_hour</th>\n",
       "      <td>0.036938</td>\n",
       "      <td>0.165980</td>\n",
       "      <td>0.194498</td>\n",
       "      <td>1.000000</td>\n",
       "      <td>-0.001082</td>\n",
       "      <td>0.010993</td>\n",
       "      <td>-0.005731</td>\n",
       "      <td>0.191543</td>\n",
       "      <td>0.054051</td>\n",
       "      <td>0.113094</td>\n",
       "      <td>0.195687</td>\n",
       "      <td>0.002283</td>\n",
       "      <td>0.024528</td>\n",
       "    </tr>\n",
       "    <tr>\n",
       "      <th>capital_gains</th>\n",
       "      <td>0.053590</td>\n",
       "      <td>0.066017</td>\n",
       "      <td>0.002534</td>\n",
       "      <td>-0.001082</td>\n",
       "      <td>1.000000</td>\n",
       "      <td>-0.012700</td>\n",
       "      <td>0.131476</td>\n",
       "      <td>0.058015</td>\n",
       "      <td>0.015048</td>\n",
       "      <td>0.051530</td>\n",
       "      <td>0.083549</td>\n",
       "      <td>0.005243</td>\n",
       "      <td>0.240725</td>\n",
       "    </tr>\n",
       "    <tr>\n",
       "      <th>capital_losses</th>\n",
       "      <td>0.063351</td>\n",
       "      <td>0.072586</td>\n",
       "      <td>0.043680</td>\n",
       "      <td>0.010993</td>\n",
       "      <td>-0.012700</td>\n",
       "      <td>1.000000</td>\n",
       "      <td>0.042427</td>\n",
       "      <td>0.084255</td>\n",
       "      <td>0.024116</td>\n",
       "      <td>0.075391</td>\n",
       "      <td>0.100762</td>\n",
       "      <td>0.000096</td>\n",
       "      <td>0.147417</td>\n",
       "    </tr>\n",
       "    <tr>\n",
       "      <th>dividend_from_Stocks</th>\n",
       "      <td>0.104976</td>\n",
       "      <td>0.012774</td>\n",
       "      <td>-0.026726</td>\n",
       "      <td>-0.005731</td>\n",
       "      <td>0.131476</td>\n",
       "      <td>0.042427</td>\n",
       "      <td>1.000000</td>\n",
       "      <td>0.007206</td>\n",
       "      <td>-0.004885</td>\n",
       "      <td>0.054585</td>\n",
       "      <td>0.013823</td>\n",
       "      <td>0.001913</td>\n",
       "      <td>0.175779</td>\n",
       "    </tr>\n",
       "    <tr>\n",
       "      <th>num_person_Worked_employer</th>\n",
       "      <td>0.140887</td>\n",
       "      <td>0.642096</td>\n",
       "      <td>0.515554</td>\n",
       "      <td>0.191543</td>\n",
       "      <td>0.058015</td>\n",
       "      <td>0.084255</td>\n",
       "      <td>0.007206</td>\n",
       "      <td>1.000000</td>\n",
       "      <td>0.240553</td>\n",
       "      <td>0.463334</td>\n",
       "      <td>0.747302</td>\n",
       "      <td>0.018774</td>\n",
       "      <td>0.222684</td>\n",
       "    </tr>\n",
       "    <tr>\n",
       "      <th>business_or_self_employed</th>\n",
       "      <td>-0.002265</td>\n",
       "      <td>0.252694</td>\n",
       "      <td>0.228952</td>\n",
       "      <td>0.054051</td>\n",
       "      <td>0.015048</td>\n",
       "      <td>0.024116</td>\n",
       "      <td>-0.004885</td>\n",
       "      <td>0.240553</td>\n",
       "      <td>1.000000</td>\n",
       "      <td>0.177448</td>\n",
       "      <td>0.265872</td>\n",
       "      <td>0.007377</td>\n",
       "      <td>0.040473</td>\n",
       "    </tr>\n",
       "    <tr>\n",
       "      <th>veterans_benefits</th>\n",
       "      <td>0.674844</td>\n",
       "      <td>0.476475</td>\n",
       "      <td>0.438680</td>\n",
       "      <td>0.113094</td>\n",
       "      <td>0.051530</td>\n",
       "      <td>0.075391</td>\n",
       "      <td>0.054585</td>\n",
       "      <td>0.463334</td>\n",
       "      <td>0.177448</td>\n",
       "      <td>1.000000</td>\n",
       "      <td>0.532279</td>\n",
       "      <td>0.003122</td>\n",
       "      <td>0.140930</td>\n",
       "    </tr>\n",
       "    <tr>\n",
       "      <th>weeks_worked_in_year</th>\n",
       "      <td>0.206181</td>\n",
       "      <td>0.754472</td>\n",
       "      <td>0.655613</td>\n",
       "      <td>0.195687</td>\n",
       "      <td>0.083549</td>\n",
       "      <td>0.100762</td>\n",
       "      <td>0.013823</td>\n",
       "      <td>0.747302</td>\n",
       "      <td>0.265872</td>\n",
       "      <td>0.532279</td>\n",
       "      <td>1.000000</td>\n",
       "      <td>0.005252</td>\n",
       "      <td>0.262316</td>\n",
       "    </tr>\n",
       "    <tr>\n",
       "      <th>year</th>\n",
       "      <td>0.004413</td>\n",
       "      <td>0.003430</td>\n",
       "      <td>-0.003140</td>\n",
       "      <td>0.002283</td>\n",
       "      <td>0.005243</td>\n",
       "      <td>0.000096</td>\n",
       "      <td>0.001913</td>\n",
       "      <td>0.018774</td>\n",
       "      <td>0.007377</td>\n",
       "      <td>0.003122</td>\n",
       "      <td>0.005252</td>\n",
       "      <td>1.000000</td>\n",
       "      <td>0.014794</td>\n",
       "    </tr>\n",
       "    <tr>\n",
       "      <th>income_level</th>\n",
       "      <td>0.135720</td>\n",
       "      <td>0.196190</td>\n",
       "      <td>0.013414</td>\n",
       "      <td>0.024528</td>\n",
       "      <td>0.240725</td>\n",
       "      <td>0.147417</td>\n",
       "      <td>0.175779</td>\n",
       "      <td>0.222684</td>\n",
       "      <td>0.040473</td>\n",
       "      <td>0.140930</td>\n",
       "      <td>0.262316</td>\n",
       "      <td>0.014794</td>\n",
       "      <td>1.000000</td>\n",
       "    </tr>\n",
       "  </tbody>\n",
       "</table>\n",
       "</div>"
      ],
      "text/plain": [
       "                                 age  industry_code  occupation_code  \\\n",
       "age                         1.000000       0.157822         0.117414   \n",
       "industry_code               0.157822       1.000000         0.563493   \n",
       "occupation_code             0.117414       0.563493         1.000000   \n",
       "wage_per_hour               0.036938       0.165980         0.194498   \n",
       "capital_gains               0.053590       0.066017         0.002534   \n",
       "capital_losses              0.063351       0.072586         0.043680   \n",
       "dividend_from_Stocks        0.104976       0.012774        -0.026726   \n",
       "num_person_Worked_employer  0.140887       0.642096         0.515554   \n",
       "business_or_self_employed  -0.002265       0.252694         0.228952   \n",
       "veterans_benefits           0.674844       0.476475         0.438680   \n",
       "weeks_worked_in_year        0.206181       0.754472         0.655613   \n",
       "year                        0.004413       0.003430        -0.003140   \n",
       "income_level                0.135720       0.196190         0.013414   \n",
       "\n",
       "                            wage_per_hour  capital_gains  capital_losses  \\\n",
       "age                              0.036938       0.053590        0.063351   \n",
       "industry_code                    0.165980       0.066017        0.072586   \n",
       "occupation_code                  0.194498       0.002534        0.043680   \n",
       "wage_per_hour                    1.000000      -0.001082        0.010993   \n",
       "capital_gains                   -0.001082       1.000000       -0.012700   \n",
       "capital_losses                   0.010993      -0.012700        1.000000   \n",
       "dividend_from_Stocks            -0.005731       0.131476        0.042427   \n",
       "num_person_Worked_employer       0.191543       0.058015        0.084255   \n",
       "business_or_self_employed        0.054051       0.015048        0.024116   \n",
       "veterans_benefits                0.113094       0.051530        0.075391   \n",
       "weeks_worked_in_year             0.195687       0.083549        0.100762   \n",
       "year                             0.002283       0.005243        0.000096   \n",
       "income_level                     0.024528       0.240725        0.147417   \n",
       "\n",
       "                            dividend_from_Stocks  num_person_Worked_employer  \\\n",
       "age                                     0.104976                    0.140887   \n",
       "industry_code                           0.012774                    0.642096   \n",
       "occupation_code                        -0.026726                    0.515554   \n",
       "wage_per_hour                          -0.005731                    0.191543   \n",
       "capital_gains                           0.131476                    0.058015   \n",
       "capital_losses                          0.042427                    0.084255   \n",
       "dividend_from_Stocks                    1.000000                    0.007206   \n",
       "num_person_Worked_employer              0.007206                    1.000000   \n",
       "business_or_self_employed              -0.004885                    0.240553   \n",
       "veterans_benefits                       0.054585                    0.463334   \n",
       "weeks_worked_in_year                    0.013823                    0.747302   \n",
       "year                                    0.001913                    0.018774   \n",
       "income_level                            0.175779                    0.222684   \n",
       "\n",
       "                            business_or_self_employed  veterans_benefits  \\\n",
       "age                                         -0.002265           0.674844   \n",
       "industry_code                                0.252694           0.476475   \n",
       "occupation_code                              0.228952           0.438680   \n",
       "wage_per_hour                                0.054051           0.113094   \n",
       "capital_gains                                0.015048           0.051530   \n",
       "capital_losses                               0.024116           0.075391   \n",
       "dividend_from_Stocks                        -0.004885           0.054585   \n",
       "num_person_Worked_employer                   0.240553           0.463334   \n",
       "business_or_self_employed                    1.000000           0.177448   \n",
       "veterans_benefits                            0.177448           1.000000   \n",
       "weeks_worked_in_year                         0.265872           0.532279   \n",
       "year                                         0.007377           0.003122   \n",
       "income_level                                 0.040473           0.140930   \n",
       "\n",
       "                            weeks_worked_in_year      year  income_level  \n",
       "age                                     0.206181  0.004413      0.135720  \n",
       "industry_code                           0.754472  0.003430      0.196190  \n",
       "occupation_code                         0.655613 -0.003140      0.013414  \n",
       "wage_per_hour                           0.195687  0.002283      0.024528  \n",
       "capital_gains                           0.083549  0.005243      0.240725  \n",
       "capital_losses                          0.100762  0.000096      0.147417  \n",
       "dividend_from_Stocks                    0.013823  0.001913      0.175779  \n",
       "num_person_Worked_employer              0.747302  0.018774      0.222684  \n",
       "business_or_self_employed               0.265872  0.007377      0.040473  \n",
       "veterans_benefits                       0.532279  0.003122      0.140930  \n",
       "weeks_worked_in_year                    1.000000  0.005252      0.262316  \n",
       "year                                    0.005252  1.000000      0.014794  \n",
       "income_level                            0.262316  0.014794      1.000000  "
      ]
     },
     "execution_count": 47,
     "metadata": {},
     "output_type": "execute_result"
    }
   ],
   "source": [
    "corr=numerical_variables.corr()  # 计算变量（列）两两之间的（皮尔逊相关系数）\n",
    "corr"
   ]
  },
  {
   "cell_type": "markdown",
   "metadata": {},
   "source": [
    "### 设定阈值为0.7，过滤 皮尔逊积矩相关系数> 0.7 的变量"
   ]
  },
  {
   "cell_type": "code",
   "execution_count": 48,
   "metadata": {
    "collapsed": false
   },
   "outputs": [
    {
     "data": {
      "text/plain": [
       "age                           0.000000\n",
       "industry_code                 0.754472\n",
       "occupation_code               0.000000\n",
       "wage_per_hour                 0.000000\n",
       "capital_gains                 0.000000\n",
       "capital_losses                0.000000\n",
       "dividend_from_Stocks          0.000000\n",
       "num_person_Worked_employer    0.747302\n",
       "business_or_self_employed     0.000000\n",
       "veterans_benefits             0.000000\n",
       "weeks_worked_in_year          1.501774\n",
       "year                          0.000000\n",
       "income_level                  0.000000\n",
       "dtype: float64"
      ]
     },
     "execution_count": 48,
     "metadata": {},
     "output_type": "execute_result"
    }
   ],
   "source": [
    "threshold=corr[corr > 0.7].sum() -1 \n",
    "threshold"
   ]
  },
  {
   "cell_type": "code",
   "execution_count": 49,
   "metadata": {
    "collapsed": false
   },
   "outputs": [
    {
     "data": {
      "text/plain": [
       "industry_code                 0.754472\n",
       "num_person_Worked_employer    0.747302\n",
       "weeks_worked_in_year          1.501774\n",
       "dtype: float64"
      ]
     },
     "execution_count": 49,
     "metadata": {},
     "output_type": "execute_result"
    }
   ],
   "source": [
    "corv=threshold[threshold > 0.7]\n",
    "corv"
   ]
  },
  {
   "cell_type": "code",
   "execution_count": 50,
   "metadata": {
    "collapsed": false
   },
   "outputs": [
    {
     "data": {
      "text/html": [
       "<div>\n",
       "<table border=\"1\" class=\"dataframe\">\n",
       "  <thead>\n",
       "    <tr style=\"text-align: right;\">\n",
       "      <th></th>\n",
       "      <th>industry_code</th>\n",
       "      <th>num_person_Worked_employer</th>\n",
       "      <th>weeks_worked_in_year</th>\n",
       "    </tr>\n",
       "  </thead>\n",
       "  <tbody>\n",
       "    <tr>\n",
       "      <th>industry_code</th>\n",
       "      <td>1.000000</td>\n",
       "      <td>0.642096</td>\n",
       "      <td>0.754472</td>\n",
       "    </tr>\n",
       "    <tr>\n",
       "      <th>num_person_Worked_employer</th>\n",
       "      <td>0.642096</td>\n",
       "      <td>1.000000</td>\n",
       "      <td>0.747302</td>\n",
       "    </tr>\n",
       "    <tr>\n",
       "      <th>weeks_worked_in_year</th>\n",
       "      <td>0.754472</td>\n",
       "      <td>0.747302</td>\n",
       "      <td>1.000000</td>\n",
       "    </tr>\n",
       "  </tbody>\n",
       "</table>\n",
       "</div>"
      ],
      "text/plain": [
       "                            industry_code  num_person_Worked_employer  \\\n",
       "industry_code                    1.000000                    0.642096   \n",
       "num_person_Worked_employer       0.642096                    1.000000   \n",
       "weeks_worked_in_year             0.754472                    0.747302   \n",
       "\n",
       "                            weeks_worked_in_year  \n",
       "industry_code                           0.754472  \n",
       "num_person_Worked_employer              0.747302  \n",
       "weeks_worked_in_year                    1.000000  "
      ]
     },
     "execution_count": 50,
     "metadata": {},
     "output_type": "execute_result"
    }
   ],
   "source": [
    "train[corv.index].corr()   "
   ]
  },
  {
   "cell_type": "markdown",
   "metadata": {},
   "source": [
    "所以过滤变量weeks_worked_in_year:"
   ]
  },
  {
   "cell_type": "code",
   "execution_count": 51,
   "metadata": {
    "collapsed": false
   },
   "outputs": [],
   "source": [
    "numerical_variables=numerical_variables.drop('weeks_worked_in_year',axis=1)"
   ]
  },
  {
   "cell_type": "markdown",
   "metadata": {},
   "source": [
    "### 分类数据："
   ]
  },
  {
   "cell_type": "markdown",
   "metadata": {},
   "source": [
    "缺失值处理："
   ]
  },
  {
   "cell_type": "code",
   "execution_count": 52,
   "metadata": {
    "collapsed": false
   },
   "outputs": [
    {
     "data": {
      "text/plain": [
       "class_of_worker                      0.000000\n",
       "education                            0.000000\n",
       "enrolled_in_edu_inst_lastwk          0.000000\n",
       "marital_status                       0.000000\n",
       "major_industry_code                  0.000000\n",
       "major_occupation_code                0.000000\n",
       "race                                 0.000000\n",
       "hispanic_origin                      0.439972\n",
       "sex                                  0.000000\n",
       "member_of_labor_union                0.000000\n",
       "reason_for_unemployment              0.000000\n",
       "full_parttime_employment_stat        0.000000\n",
       "tax_filer_status                     0.000000\n",
       "region_of_previous_residence         0.000000\n",
       "state_of_previous_residence          0.356110\n",
       "d_household_family_stat              0.000000\n",
       "d_household_summary                  0.000000\n",
       "migration_msa                       99.868773\n",
       "migration_reg                       99.868773\n",
       "migration_within_reg                99.868773\n",
       "live_1_year_ago                      0.000000\n",
       "migration_sunbelt                   99.868773\n",
       "family_members_under_18              0.000000\n",
       "country_father                       3.481666\n",
       "country_mother                       3.163844\n",
       "country_self                         1.729975\n",
       "citizenship                          0.000000\n",
       "fill_questionnaire_veteran_admin     0.000000\n",
       "dtype: float64"
      ]
     },
     "execution_count": 52,
     "metadata": {},
     "output_type": "execute_result"
    }
   ],
   "source": [
    "nullpropo=categorical_variables.isnull().sum() / categorical_variables.count() *100  # 缺失值占比\n",
    "nullpropo"
   ]
  },
  {
   "cell_type": "code",
   "execution_count": 53,
   "metadata": {
    "collapsed": false
   },
   "outputs": [],
   "source": [
    "categorical_variables=categorical_variables.drop(nullpropo[nullpropo > 50].index,axis=1) # 删除含50%以上缺失值的列"
   ]
  },
  {
   "cell_type": "code",
   "execution_count": 54,
   "metadata": {
    "collapsed": false
   },
   "outputs": [],
   "source": [
    "# 对于剩下的缺失值，一个较好的做法是用‘unavailable’填充：\n",
    "categorical_variables.fillna('unavailable',inplace=True)"
   ]
  },
  {
   "cell_type": "code",
   "execution_count": 55,
   "metadata": {
    "collapsed": false
   },
   "outputs": [
    {
     "data": {
      "text/plain": [
       "class_of_worker                     0\n",
       "education                           0\n",
       "enrolled_in_edu_inst_lastwk         0\n",
       "marital_status                      0\n",
       "major_industry_code                 0\n",
       "major_occupation_code               0\n",
       "race                                0\n",
       "hispanic_origin                     0\n",
       "sex                                 0\n",
       "member_of_labor_union               0\n",
       "reason_for_unemployment             0\n",
       "full_parttime_employment_stat       0\n",
       "tax_filer_status                    0\n",
       "region_of_previous_residence        0\n",
       "state_of_previous_residence         0\n",
       "d_household_family_stat             0\n",
       "d_household_summary                 0\n",
       "live_1_year_ago                     0\n",
       "family_members_under_18             0\n",
       "country_father                      0\n",
       "country_mother                      0\n",
       "country_self                        0\n",
       "citizenship                         0\n",
       "fill_questionnaire_veteran_admin    0\n",
       "dtype: int64"
      ]
     },
     "execution_count": 55,
     "metadata": {},
     "output_type": "execute_result"
    }
   ],
   "source": [
    "categorical_variables.isnull().sum()"
   ]
  },
  {
   "cell_type": "markdown",
   "metadata": {},
   "source": [
    "## 4.特征工程"
   ]
  },
  {
   "cell_type": "code",
   "execution_count": 56,
   "metadata": {
    "collapsed": false
   },
   "outputs": [
    {
     "data": {
      "text/html": [
       "<div>\n",
       "<table border=\"1\" class=\"dataframe\">\n",
       "  <thead>\n",
       "    <tr style=\"text-align: right;\">\n",
       "      <th></th>\n",
       "      <th>age</th>\n",
       "      <th>industry_code</th>\n",
       "      <th>occupation_code</th>\n",
       "      <th>wage_per_hour</th>\n",
       "      <th>capital_gains</th>\n",
       "      <th>capital_losses</th>\n",
       "      <th>dividend_from_Stocks</th>\n",
       "      <th>num_person_Worked_employer</th>\n",
       "      <th>business_or_self_employed</th>\n",
       "      <th>veterans_benefits</th>\n",
       "      <th>year</th>\n",
       "      <th>income_level</th>\n",
       "    </tr>\n",
       "  </thead>\n",
       "  <tbody>\n",
       "    <tr>\n",
       "      <th>count</th>\n",
       "      <td>199523.000000</td>\n",
       "      <td>199523.000000</td>\n",
       "      <td>199523.000000</td>\n",
       "      <td>199523.000000</td>\n",
       "      <td>199523.00000</td>\n",
       "      <td>199523.000000</td>\n",
       "      <td>199523.000000</td>\n",
       "      <td>199523.000000</td>\n",
       "      <td>199523.000000</td>\n",
       "      <td>199523.000000</td>\n",
       "      <td>199523.000000</td>\n",
       "      <td>199523.000000</td>\n",
       "    </tr>\n",
       "    <tr>\n",
       "      <th>mean</th>\n",
       "      <td>34.494199</td>\n",
       "      <td>15.352320</td>\n",
       "      <td>11.306556</td>\n",
       "      <td>55.426908</td>\n",
       "      <td>434.71899</td>\n",
       "      <td>37.313788</td>\n",
       "      <td>197.529533</td>\n",
       "      <td>1.956180</td>\n",
       "      <td>0.175438</td>\n",
       "      <td>1.514833</td>\n",
       "      <td>94.499672</td>\n",
       "      <td>0.062058</td>\n",
       "    </tr>\n",
       "    <tr>\n",
       "      <th>std</th>\n",
       "      <td>22.310895</td>\n",
       "      <td>18.067129</td>\n",
       "      <td>14.454204</td>\n",
       "      <td>274.896454</td>\n",
       "      <td>4697.53128</td>\n",
       "      <td>271.896428</td>\n",
       "      <td>1984.163658</td>\n",
       "      <td>2.365126</td>\n",
       "      <td>0.553694</td>\n",
       "      <td>0.851473</td>\n",
       "      <td>0.500001</td>\n",
       "      <td>0.241261</td>\n",
       "    </tr>\n",
       "    <tr>\n",
       "      <th>min</th>\n",
       "      <td>0.000000</td>\n",
       "      <td>0.000000</td>\n",
       "      <td>0.000000</td>\n",
       "      <td>0.000000</td>\n",
       "      <td>0.00000</td>\n",
       "      <td>0.000000</td>\n",
       "      <td>0.000000</td>\n",
       "      <td>0.000000</td>\n",
       "      <td>0.000000</td>\n",
       "      <td>0.000000</td>\n",
       "      <td>94.000000</td>\n",
       "      <td>0.000000</td>\n",
       "    </tr>\n",
       "    <tr>\n",
       "      <th>25%</th>\n",
       "      <td>15.000000</td>\n",
       "      <td>0.000000</td>\n",
       "      <td>0.000000</td>\n",
       "      <td>0.000000</td>\n",
       "      <td>0.00000</td>\n",
       "      <td>0.000000</td>\n",
       "      <td>0.000000</td>\n",
       "      <td>0.000000</td>\n",
       "      <td>0.000000</td>\n",
       "      <td>2.000000</td>\n",
       "      <td>94.000000</td>\n",
       "      <td>0.000000</td>\n",
       "    </tr>\n",
       "    <tr>\n",
       "      <th>50%</th>\n",
       "      <td>33.000000</td>\n",
       "      <td>0.000000</td>\n",
       "      <td>0.000000</td>\n",
       "      <td>0.000000</td>\n",
       "      <td>0.00000</td>\n",
       "      <td>0.000000</td>\n",
       "      <td>0.000000</td>\n",
       "      <td>1.000000</td>\n",
       "      <td>0.000000</td>\n",
       "      <td>2.000000</td>\n",
       "      <td>94.000000</td>\n",
       "      <td>0.000000</td>\n",
       "    </tr>\n",
       "    <tr>\n",
       "      <th>75%</th>\n",
       "      <td>50.000000</td>\n",
       "      <td>33.000000</td>\n",
       "      <td>26.000000</td>\n",
       "      <td>0.000000</td>\n",
       "      <td>0.00000</td>\n",
       "      <td>0.000000</td>\n",
       "      <td>0.000000</td>\n",
       "      <td>4.000000</td>\n",
       "      <td>0.000000</td>\n",
       "      <td>2.000000</td>\n",
       "      <td>95.000000</td>\n",
       "      <td>0.000000</td>\n",
       "    </tr>\n",
       "    <tr>\n",
       "      <th>max</th>\n",
       "      <td>90.000000</td>\n",
       "      <td>51.000000</td>\n",
       "      <td>46.000000</td>\n",
       "      <td>9999.000000</td>\n",
       "      <td>99999.00000</td>\n",
       "      <td>4608.000000</td>\n",
       "      <td>99999.000000</td>\n",
       "      <td>6.000000</td>\n",
       "      <td>2.000000</td>\n",
       "      <td>2.000000</td>\n",
       "      <td>95.000000</td>\n",
       "      <td>1.000000</td>\n",
       "    </tr>\n",
       "  </tbody>\n",
       "</table>\n",
       "</div>"
      ],
      "text/plain": [
       "                 age  industry_code  occupation_code  wage_per_hour  \\\n",
       "count  199523.000000  199523.000000    199523.000000  199523.000000   \n",
       "mean       34.494199      15.352320        11.306556      55.426908   \n",
       "std        22.310895      18.067129        14.454204     274.896454   \n",
       "min         0.000000       0.000000         0.000000       0.000000   \n",
       "25%        15.000000       0.000000         0.000000       0.000000   \n",
       "50%        33.000000       0.000000         0.000000       0.000000   \n",
       "75%        50.000000      33.000000        26.000000       0.000000   \n",
       "max        90.000000      51.000000        46.000000    9999.000000   \n",
       "\n",
       "       capital_gains  capital_losses  dividend_from_Stocks  \\\n",
       "count   199523.00000   199523.000000         199523.000000   \n",
       "mean       434.71899       37.313788            197.529533   \n",
       "std       4697.53128      271.896428           1984.163658   \n",
       "min          0.00000        0.000000              0.000000   \n",
       "25%          0.00000        0.000000              0.000000   \n",
       "50%          0.00000        0.000000              0.000000   \n",
       "75%          0.00000        0.000000              0.000000   \n",
       "max      99999.00000     4608.000000          99999.000000   \n",
       "\n",
       "       num_person_Worked_employer  business_or_self_employed  \\\n",
       "count               199523.000000              199523.000000   \n",
       "mean                     1.956180                   0.175438   \n",
       "std                      2.365126                   0.553694   \n",
       "min                      0.000000                   0.000000   \n",
       "25%                      0.000000                   0.000000   \n",
       "50%                      1.000000                   0.000000   \n",
       "75%                      4.000000                   0.000000   \n",
       "max                      6.000000                   2.000000   \n",
       "\n",
       "       veterans_benefits           year   income_level  \n",
       "count      199523.000000  199523.000000  199523.000000  \n",
       "mean            1.514833      94.499672       0.062058  \n",
       "std             0.851473       0.500001       0.241261  \n",
       "min             0.000000      94.000000       0.000000  \n",
       "25%             2.000000      94.000000       0.000000  \n",
       "50%             2.000000      94.000000       0.000000  \n",
       "75%             2.000000      95.000000       0.000000  \n",
       "max             2.000000      95.000000       1.000000  "
      ]
     },
     "execution_count": 56,
     "metadata": {},
     "output_type": "execute_result"
    }
   ],
   "source": [
    "numerical_variables.describe()"
   ]
  },
  {
   "cell_type": "markdown",
   "metadata": {},
   "source": [
    "用groupby和value_count()（代替制表）快速观察各变量,发现:\n",
    "\n",
    "1.age 到 dividend_from_Stock列，值为0的，income_level=0，所以把数据集按0和非0拆分，对非0集建模，test同样。\n",
    "\n",
    "2.后面几个变量unique value 很少，试作图进一步观察"
   ]
  },
  {
   "cell_type": "code",
   "execution_count": 48,
   "metadata": {
    "collapsed": false
   },
   "outputs": [
    {
     "data": {
      "text/html": [
       "<div>\n",
       "<table border=\"1\" class=\"dataframe\">\n",
       "  <thead>\n",
       "    <tr style=\"text-align: right;\">\n",
       "      <th></th>\n",
       "      <th>age</th>\n",
       "      <th>industry_code</th>\n",
       "      <th>occupation_code</th>\n",
       "      <th>wage_per_hour</th>\n",
       "      <th>capital_gains</th>\n",
       "      <th>capital_losses</th>\n",
       "      <th>dividend_from_Stocks</th>\n",
       "      <th>num_person_Worked_employer</th>\n",
       "      <th>business_or_self_employed</th>\n",
       "      <th>veterans_benefits</th>\n",
       "      <th>year</th>\n",
       "      <th>income_level</th>\n",
       "    </tr>\n",
       "  </thead>\n",
       "  <tbody>\n",
       "    <tr>\n",
       "      <th>66</th>\n",
       "      <td>0</td>\n",
       "      <td>0</td>\n",
       "      <td>0</td>\n",
       "      <td>0</td>\n",
       "      <td>0</td>\n",
       "      <td>0</td>\n",
       "      <td>0</td>\n",
       "      <td>0</td>\n",
       "      <td>0</td>\n",
       "      <td>0</td>\n",
       "      <td>94</td>\n",
       "      <td>0</td>\n",
       "    </tr>\n",
       "    <tr>\n",
       "      <th>105</th>\n",
       "      <td>0</td>\n",
       "      <td>0</td>\n",
       "      <td>0</td>\n",
       "      <td>0</td>\n",
       "      <td>0</td>\n",
       "      <td>0</td>\n",
       "      <td>0</td>\n",
       "      <td>0</td>\n",
       "      <td>0</td>\n",
       "      <td>0</td>\n",
       "      <td>94</td>\n",
       "      <td>0</td>\n",
       "    </tr>\n",
       "    <tr>\n",
       "      <th>311</th>\n",
       "      <td>0</td>\n",
       "      <td>0</td>\n",
       "      <td>0</td>\n",
       "      <td>0</td>\n",
       "      <td>0</td>\n",
       "      <td>0</td>\n",
       "      <td>0</td>\n",
       "      <td>0</td>\n",
       "      <td>0</td>\n",
       "      <td>0</td>\n",
       "      <td>94</td>\n",
       "      <td>0</td>\n",
       "    </tr>\n",
       "    <tr>\n",
       "      <th>422</th>\n",
       "      <td>0</td>\n",
       "      <td>0</td>\n",
       "      <td>0</td>\n",
       "      <td>0</td>\n",
       "      <td>0</td>\n",
       "      <td>0</td>\n",
       "      <td>0</td>\n",
       "      <td>0</td>\n",
       "      <td>0</td>\n",
       "      <td>0</td>\n",
       "      <td>94</td>\n",
       "      <td>0</td>\n",
       "    </tr>\n",
       "    <tr>\n",
       "      <th>582</th>\n",
       "      <td>0</td>\n",
       "      <td>0</td>\n",
       "      <td>0</td>\n",
       "      <td>0</td>\n",
       "      <td>0</td>\n",
       "      <td>0</td>\n",
       "      <td>0</td>\n",
       "      <td>0</td>\n",
       "      <td>0</td>\n",
       "      <td>0</td>\n",
       "      <td>94</td>\n",
       "      <td>0</td>\n",
       "    </tr>\n",
       "    <tr>\n",
       "      <th>708</th>\n",
       "      <td>0</td>\n",
       "      <td>0</td>\n",
       "      <td>0</td>\n",
       "      <td>0</td>\n",
       "      <td>0</td>\n",
       "      <td>0</td>\n",
       "      <td>0</td>\n",
       "      <td>0</td>\n",
       "      <td>0</td>\n",
       "      <td>0</td>\n",
       "      <td>94</td>\n",
       "      <td>0</td>\n",
       "    </tr>\n",
       "    <tr>\n",
       "      <th>1314</th>\n",
       "      <td>0</td>\n",
       "      <td>0</td>\n",
       "      <td>0</td>\n",
       "      <td>0</td>\n",
       "      <td>0</td>\n",
       "      <td>0</td>\n",
       "      <td>0</td>\n",
       "      <td>0</td>\n",
       "      <td>0</td>\n",
       "      <td>0</td>\n",
       "      <td>94</td>\n",
       "      <td>0</td>\n",
       "    </tr>\n",
       "    <tr>\n",
       "      <th>1412</th>\n",
       "      <td>0</td>\n",
       "      <td>0</td>\n",
       "      <td>0</td>\n",
       "      <td>0</td>\n",
       "      <td>0</td>\n",
       "      <td>0</td>\n",
       "      <td>0</td>\n",
       "      <td>0</td>\n",
       "      <td>0</td>\n",
       "      <td>0</td>\n",
       "      <td>94</td>\n",
       "      <td>0</td>\n",
       "    </tr>\n",
       "    <tr>\n",
       "      <th>1461</th>\n",
       "      <td>0</td>\n",
       "      <td>0</td>\n",
       "      <td>0</td>\n",
       "      <td>0</td>\n",
       "      <td>0</td>\n",
       "      <td>0</td>\n",
       "      <td>0</td>\n",
       "      <td>0</td>\n",
       "      <td>0</td>\n",
       "      <td>0</td>\n",
       "      <td>94</td>\n",
       "      <td>0</td>\n",
       "    </tr>\n",
       "    <tr>\n",
       "      <th>1674</th>\n",
       "      <td>0</td>\n",
       "      <td>0</td>\n",
       "      <td>0</td>\n",
       "      <td>0</td>\n",
       "      <td>0</td>\n",
       "      <td>0</td>\n",
       "      <td>0</td>\n",
       "      <td>0</td>\n",
       "      <td>0</td>\n",
       "      <td>0</td>\n",
       "      <td>94</td>\n",
       "      <td>0</td>\n",
       "    </tr>\n",
       "    <tr>\n",
       "      <th>1996</th>\n",
       "      <td>0</td>\n",
       "      <td>0</td>\n",
       "      <td>0</td>\n",
       "      <td>0</td>\n",
       "      <td>0</td>\n",
       "      <td>0</td>\n",
       "      <td>0</td>\n",
       "      <td>0</td>\n",
       "      <td>0</td>\n",
       "      <td>0</td>\n",
       "      <td>94</td>\n",
       "      <td>0</td>\n",
       "    </tr>\n",
       "    <tr>\n",
       "      <th>2080</th>\n",
       "      <td>0</td>\n",
       "      <td>0</td>\n",
       "      <td>0</td>\n",
       "      <td>0</td>\n",
       "      <td>0</td>\n",
       "      <td>0</td>\n",
       "      <td>0</td>\n",
       "      <td>0</td>\n",
       "      <td>0</td>\n",
       "      <td>0</td>\n",
       "      <td>94</td>\n",
       "      <td>0</td>\n",
       "    </tr>\n",
       "    <tr>\n",
       "      <th>2255</th>\n",
       "      <td>0</td>\n",
       "      <td>0</td>\n",
       "      <td>0</td>\n",
       "      <td>0</td>\n",
       "      <td>0</td>\n",
       "      <td>0</td>\n",
       "      <td>0</td>\n",
       "      <td>0</td>\n",
       "      <td>0</td>\n",
       "      <td>0</td>\n",
       "      <td>94</td>\n",
       "      <td>0</td>\n",
       "    </tr>\n",
       "    <tr>\n",
       "      <th>2500</th>\n",
       "      <td>0</td>\n",
       "      <td>0</td>\n",
       "      <td>0</td>\n",
       "      <td>0</td>\n",
       "      <td>0</td>\n",
       "      <td>0</td>\n",
       "      <td>0</td>\n",
       "      <td>0</td>\n",
       "      <td>0</td>\n",
       "      <td>0</td>\n",
       "      <td>94</td>\n",
       "      <td>0</td>\n",
       "    </tr>\n",
       "    <tr>\n",
       "      <th>2601</th>\n",
       "      <td>0</td>\n",
       "      <td>0</td>\n",
       "      <td>0</td>\n",
       "      <td>0</td>\n",
       "      <td>0</td>\n",
       "      <td>0</td>\n",
       "      <td>0</td>\n",
       "      <td>0</td>\n",
       "      <td>0</td>\n",
       "      <td>0</td>\n",
       "      <td>94</td>\n",
       "      <td>0</td>\n",
       "    </tr>\n",
       "    <tr>\n",
       "      <th>2867</th>\n",
       "      <td>0</td>\n",
       "      <td>0</td>\n",
       "      <td>0</td>\n",
       "      <td>0</td>\n",
       "      <td>0</td>\n",
       "      <td>0</td>\n",
       "      <td>0</td>\n",
       "      <td>0</td>\n",
       "      <td>0</td>\n",
       "      <td>0</td>\n",
       "      <td>94</td>\n",
       "      <td>0</td>\n",
       "    </tr>\n",
       "    <tr>\n",
       "      <th>2911</th>\n",
       "      <td>0</td>\n",
       "      <td>0</td>\n",
       "      <td>0</td>\n",
       "      <td>0</td>\n",
       "      <td>0</td>\n",
       "      <td>0</td>\n",
       "      <td>0</td>\n",
       "      <td>0</td>\n",
       "      <td>0</td>\n",
       "      <td>0</td>\n",
       "      <td>94</td>\n",
       "      <td>0</td>\n",
       "    </tr>\n",
       "    <tr>\n",
       "      <th>3087</th>\n",
       "      <td>0</td>\n",
       "      <td>0</td>\n",
       "      <td>0</td>\n",
       "      <td>0</td>\n",
       "      <td>0</td>\n",
       "      <td>0</td>\n",
       "      <td>0</td>\n",
       "      <td>0</td>\n",
       "      <td>0</td>\n",
       "      <td>0</td>\n",
       "      <td>94</td>\n",
       "      <td>0</td>\n",
       "    </tr>\n",
       "    <tr>\n",
       "      <th>3115</th>\n",
       "      <td>0</td>\n",
       "      <td>0</td>\n",
       "      <td>0</td>\n",
       "      <td>0</td>\n",
       "      <td>0</td>\n",
       "      <td>0</td>\n",
       "      <td>0</td>\n",
       "      <td>0</td>\n",
       "      <td>0</td>\n",
       "      <td>0</td>\n",
       "      <td>94</td>\n",
       "      <td>0</td>\n",
       "    </tr>\n",
       "    <tr>\n",
       "      <th>3283</th>\n",
       "      <td>0</td>\n",
       "      <td>0</td>\n",
       "      <td>0</td>\n",
       "      <td>0</td>\n",
       "      <td>0</td>\n",
       "      <td>0</td>\n",
       "      <td>0</td>\n",
       "      <td>0</td>\n",
       "      <td>0</td>\n",
       "      <td>0</td>\n",
       "      <td>94</td>\n",
       "      <td>0</td>\n",
       "    </tr>\n",
       "    <tr>\n",
       "      <th>3487</th>\n",
       "      <td>0</td>\n",
       "      <td>0</td>\n",
       "      <td>0</td>\n",
       "      <td>0</td>\n",
       "      <td>0</td>\n",
       "      <td>0</td>\n",
       "      <td>0</td>\n",
       "      <td>0</td>\n",
       "      <td>0</td>\n",
       "      <td>0</td>\n",
       "      <td>94</td>\n",
       "      <td>0</td>\n",
       "    </tr>\n",
       "    <tr>\n",
       "      <th>3648</th>\n",
       "      <td>0</td>\n",
       "      <td>0</td>\n",
       "      <td>0</td>\n",
       "      <td>0</td>\n",
       "      <td>0</td>\n",
       "      <td>0</td>\n",
       "      <td>0</td>\n",
       "      <td>0</td>\n",
       "      <td>0</td>\n",
       "      <td>0</td>\n",
       "      <td>94</td>\n",
       "      <td>0</td>\n",
       "    </tr>\n",
       "    <tr>\n",
       "      <th>3926</th>\n",
       "      <td>0</td>\n",
       "      <td>0</td>\n",
       "      <td>0</td>\n",
       "      <td>0</td>\n",
       "      <td>0</td>\n",
       "      <td>0</td>\n",
       "      <td>0</td>\n",
       "      <td>0</td>\n",
       "      <td>0</td>\n",
       "      <td>0</td>\n",
       "      <td>94</td>\n",
       "      <td>0</td>\n",
       "    </tr>\n",
       "    <tr>\n",
       "      <th>4036</th>\n",
       "      <td>0</td>\n",
       "      <td>0</td>\n",
       "      <td>0</td>\n",
       "      <td>0</td>\n",
       "      <td>0</td>\n",
       "      <td>0</td>\n",
       "      <td>0</td>\n",
       "      <td>0</td>\n",
       "      <td>0</td>\n",
       "      <td>0</td>\n",
       "      <td>94</td>\n",
       "      <td>0</td>\n",
       "    </tr>\n",
       "    <tr>\n",
       "      <th>4132</th>\n",
       "      <td>0</td>\n",
       "      <td>0</td>\n",
       "      <td>0</td>\n",
       "      <td>0</td>\n",
       "      <td>0</td>\n",
       "      <td>0</td>\n",
       "      <td>0</td>\n",
       "      <td>0</td>\n",
       "      <td>0</td>\n",
       "      <td>0</td>\n",
       "      <td>94</td>\n",
       "      <td>0</td>\n",
       "    </tr>\n",
       "    <tr>\n",
       "      <th>4178</th>\n",
       "      <td>0</td>\n",
       "      <td>0</td>\n",
       "      <td>0</td>\n",
       "      <td>0</td>\n",
       "      <td>0</td>\n",
       "      <td>0</td>\n",
       "      <td>0</td>\n",
       "      <td>0</td>\n",
       "      <td>0</td>\n",
       "      <td>0</td>\n",
       "      <td>94</td>\n",
       "      <td>0</td>\n",
       "    </tr>\n",
       "    <tr>\n",
       "      <th>4322</th>\n",
       "      <td>0</td>\n",
       "      <td>0</td>\n",
       "      <td>0</td>\n",
       "      <td>0</td>\n",
       "      <td>0</td>\n",
       "      <td>0</td>\n",
       "      <td>0</td>\n",
       "      <td>0</td>\n",
       "      <td>0</td>\n",
       "      <td>0</td>\n",
       "      <td>94</td>\n",
       "      <td>0</td>\n",
       "    </tr>\n",
       "    <tr>\n",
       "      <th>4489</th>\n",
       "      <td>0</td>\n",
       "      <td>0</td>\n",
       "      <td>0</td>\n",
       "      <td>0</td>\n",
       "      <td>0</td>\n",
       "      <td>0</td>\n",
       "      <td>0</td>\n",
       "      <td>0</td>\n",
       "      <td>0</td>\n",
       "      <td>0</td>\n",
       "      <td>94</td>\n",
       "      <td>0</td>\n",
       "    </tr>\n",
       "    <tr>\n",
       "      <th>4612</th>\n",
       "      <td>0</td>\n",
       "      <td>0</td>\n",
       "      <td>0</td>\n",
       "      <td>0</td>\n",
       "      <td>0</td>\n",
       "      <td>0</td>\n",
       "      <td>0</td>\n",
       "      <td>0</td>\n",
       "      <td>0</td>\n",
       "      <td>0</td>\n",
       "      <td>94</td>\n",
       "      <td>0</td>\n",
       "    </tr>\n",
       "    <tr>\n",
       "      <th>4797</th>\n",
       "      <td>0</td>\n",
       "      <td>0</td>\n",
       "      <td>0</td>\n",
       "      <td>0</td>\n",
       "      <td>0</td>\n",
       "      <td>0</td>\n",
       "      <td>0</td>\n",
       "      <td>0</td>\n",
       "      <td>0</td>\n",
       "      <td>0</td>\n",
       "      <td>94</td>\n",
       "      <td>0</td>\n",
       "    </tr>\n",
       "    <tr>\n",
       "      <th>...</th>\n",
       "      <td>...</td>\n",
       "      <td>...</td>\n",
       "      <td>...</td>\n",
       "      <td>...</td>\n",
       "      <td>...</td>\n",
       "      <td>...</td>\n",
       "      <td>...</td>\n",
       "      <td>...</td>\n",
       "      <td>...</td>\n",
       "      <td>...</td>\n",
       "      <td>...</td>\n",
       "      <td>...</td>\n",
       "    </tr>\n",
       "    <tr>\n",
       "      <th>132334</th>\n",
       "      <td>90</td>\n",
       "      <td>33</td>\n",
       "      <td>30</td>\n",
       "      <td>0</td>\n",
       "      <td>0</td>\n",
       "      <td>0</td>\n",
       "      <td>0</td>\n",
       "      <td>3</td>\n",
       "      <td>0</td>\n",
       "      <td>2</td>\n",
       "      <td>94</td>\n",
       "      <td>0</td>\n",
       "    </tr>\n",
       "    <tr>\n",
       "      <th>145620</th>\n",
       "      <td>90</td>\n",
       "      <td>33</td>\n",
       "      <td>42</td>\n",
       "      <td>0</td>\n",
       "      <td>0</td>\n",
       "      <td>0</td>\n",
       "      <td>0</td>\n",
       "      <td>6</td>\n",
       "      <td>2</td>\n",
       "      <td>2</td>\n",
       "      <td>95</td>\n",
       "      <td>0</td>\n",
       "    </tr>\n",
       "    <tr>\n",
       "      <th>38817</th>\n",
       "      <td>90</td>\n",
       "      <td>34</td>\n",
       "      <td>17</td>\n",
       "      <td>0</td>\n",
       "      <td>0</td>\n",
       "      <td>0</td>\n",
       "      <td>0</td>\n",
       "      <td>3</td>\n",
       "      <td>0</td>\n",
       "      <td>2</td>\n",
       "      <td>95</td>\n",
       "      <td>0</td>\n",
       "    </tr>\n",
       "    <tr>\n",
       "      <th>34995</th>\n",
       "      <td>90</td>\n",
       "      <td>34</td>\n",
       "      <td>26</td>\n",
       "      <td>0</td>\n",
       "      <td>0</td>\n",
       "      <td>0</td>\n",
       "      <td>0</td>\n",
       "      <td>4</td>\n",
       "      <td>0</td>\n",
       "      <td>2</td>\n",
       "      <td>94</td>\n",
       "      <td>0</td>\n",
       "    </tr>\n",
       "    <tr>\n",
       "      <th>149444</th>\n",
       "      <td>90</td>\n",
       "      <td>35</td>\n",
       "      <td>2</td>\n",
       "      <td>0</td>\n",
       "      <td>0</td>\n",
       "      <td>0</td>\n",
       "      <td>0</td>\n",
       "      <td>1</td>\n",
       "      <td>0</td>\n",
       "      <td>2</td>\n",
       "      <td>94</td>\n",
       "      <td>0</td>\n",
       "    </tr>\n",
       "    <tr>\n",
       "      <th>139493</th>\n",
       "      <td>90</td>\n",
       "      <td>35</td>\n",
       "      <td>2</td>\n",
       "      <td>0</td>\n",
       "      <td>0</td>\n",
       "      <td>0</td>\n",
       "      <td>0</td>\n",
       "      <td>3</td>\n",
       "      <td>0</td>\n",
       "      <td>2</td>\n",
       "      <td>94</td>\n",
       "      <td>0</td>\n",
       "    </tr>\n",
       "    <tr>\n",
       "      <th>197027</th>\n",
       "      <td>90</td>\n",
       "      <td>35</td>\n",
       "      <td>3</td>\n",
       "      <td>0</td>\n",
       "      <td>6097</td>\n",
       "      <td>0</td>\n",
       "      <td>400</td>\n",
       "      <td>1</td>\n",
       "      <td>0</td>\n",
       "      <td>2</td>\n",
       "      <td>94</td>\n",
       "      <td>1</td>\n",
       "    </tr>\n",
       "    <tr>\n",
       "      <th>118962</th>\n",
       "      <td>90</td>\n",
       "      <td>35</td>\n",
       "      <td>17</td>\n",
       "      <td>0</td>\n",
       "      <td>2964</td>\n",
       "      <td>0</td>\n",
       "      <td>0</td>\n",
       "      <td>3</td>\n",
       "      <td>0</td>\n",
       "      <td>2</td>\n",
       "      <td>95</td>\n",
       "      <td>0</td>\n",
       "    </tr>\n",
       "    <tr>\n",
       "      <th>190108</th>\n",
       "      <td>90</td>\n",
       "      <td>36</td>\n",
       "      <td>27</td>\n",
       "      <td>0</td>\n",
       "      <td>0</td>\n",
       "      <td>0</td>\n",
       "      <td>0</td>\n",
       "      <td>1</td>\n",
       "      <td>0</td>\n",
       "      <td>2</td>\n",
       "      <td>94</td>\n",
       "      <td>0</td>\n",
       "    </tr>\n",
       "    <tr>\n",
       "      <th>146774</th>\n",
       "      <td>90</td>\n",
       "      <td>37</td>\n",
       "      <td>3</td>\n",
       "      <td>0</td>\n",
       "      <td>0</td>\n",
       "      <td>0</td>\n",
       "      <td>364</td>\n",
       "      <td>3</td>\n",
       "      <td>0</td>\n",
       "      <td>2</td>\n",
       "      <td>94</td>\n",
       "      <td>1</td>\n",
       "    </tr>\n",
       "    <tr>\n",
       "      <th>53628</th>\n",
       "      <td>90</td>\n",
       "      <td>37</td>\n",
       "      <td>30</td>\n",
       "      <td>0</td>\n",
       "      <td>0</td>\n",
       "      <td>0</td>\n",
       "      <td>0</td>\n",
       "      <td>6</td>\n",
       "      <td>2</td>\n",
       "      <td>2</td>\n",
       "      <td>94</td>\n",
       "      <td>0</td>\n",
       "    </tr>\n",
       "    <tr>\n",
       "      <th>197524</th>\n",
       "      <td>90</td>\n",
       "      <td>38</td>\n",
       "      <td>42</td>\n",
       "      <td>0</td>\n",
       "      <td>0</td>\n",
       "      <td>0</td>\n",
       "      <td>0</td>\n",
       "      <td>1</td>\n",
       "      <td>0</td>\n",
       "      <td>2</td>\n",
       "      <td>94</td>\n",
       "      <td>0</td>\n",
       "    </tr>\n",
       "    <tr>\n",
       "      <th>103037</th>\n",
       "      <td>90</td>\n",
       "      <td>39</td>\n",
       "      <td>29</td>\n",
       "      <td>2952</td>\n",
       "      <td>0</td>\n",
       "      <td>0</td>\n",
       "      <td>6082</td>\n",
       "      <td>6</td>\n",
       "      <td>0</td>\n",
       "      <td>2</td>\n",
       "      <td>94</td>\n",
       "      <td>1</td>\n",
       "    </tr>\n",
       "    <tr>\n",
       "      <th>182326</th>\n",
       "      <td>90</td>\n",
       "      <td>40</td>\n",
       "      <td>12</td>\n",
       "      <td>0</td>\n",
       "      <td>0</td>\n",
       "      <td>0</td>\n",
       "      <td>0</td>\n",
       "      <td>3</td>\n",
       "      <td>0</td>\n",
       "      <td>2</td>\n",
       "      <td>94</td>\n",
       "      <td>0</td>\n",
       "    </tr>\n",
       "    <tr>\n",
       "      <th>24858</th>\n",
       "      <td>90</td>\n",
       "      <td>42</td>\n",
       "      <td>7</td>\n",
       "      <td>0</td>\n",
       "      <td>0</td>\n",
       "      <td>0</td>\n",
       "      <td>0</td>\n",
       "      <td>2</td>\n",
       "      <td>0</td>\n",
       "      <td>2</td>\n",
       "      <td>94</td>\n",
       "      <td>1</td>\n",
       "    </tr>\n",
       "    <tr>\n",
       "      <th>150225</th>\n",
       "      <td>90</td>\n",
       "      <td>42</td>\n",
       "      <td>7</td>\n",
       "      <td>0</td>\n",
       "      <td>0</td>\n",
       "      <td>0</td>\n",
       "      <td>0</td>\n",
       "      <td>6</td>\n",
       "      <td>0</td>\n",
       "      <td>2</td>\n",
       "      <td>94</td>\n",
       "      <td>1</td>\n",
       "    </tr>\n",
       "    <tr>\n",
       "      <th>37860</th>\n",
       "      <td>90</td>\n",
       "      <td>42</td>\n",
       "      <td>7</td>\n",
       "      <td>0</td>\n",
       "      <td>20051</td>\n",
       "      <td>0</td>\n",
       "      <td>0</td>\n",
       "      <td>2</td>\n",
       "      <td>0</td>\n",
       "      <td>2</td>\n",
       "      <td>94</td>\n",
       "      <td>1</td>\n",
       "    </tr>\n",
       "    <tr>\n",
       "      <th>91300</th>\n",
       "      <td>90</td>\n",
       "      <td>42</td>\n",
       "      <td>24</td>\n",
       "      <td>0</td>\n",
       "      <td>0</td>\n",
       "      <td>0</td>\n",
       "      <td>0</td>\n",
       "      <td>1</td>\n",
       "      <td>1</td>\n",
       "      <td>2</td>\n",
       "      <td>94</td>\n",
       "      <td>0</td>\n",
       "    </tr>\n",
       "    <tr>\n",
       "      <th>98786</th>\n",
       "      <td>90</td>\n",
       "      <td>43</td>\n",
       "      <td>2</td>\n",
       "      <td>0</td>\n",
       "      <td>20051</td>\n",
       "      <td>0</td>\n",
       "      <td>0</td>\n",
       "      <td>6</td>\n",
       "      <td>0</td>\n",
       "      <td>2</td>\n",
       "      <td>94</td>\n",
       "      <td>1</td>\n",
       "    </tr>\n",
       "    <tr>\n",
       "      <th>43180</th>\n",
       "      <td>90</td>\n",
       "      <td>43</td>\n",
       "      <td>10</td>\n",
       "      <td>0</td>\n",
       "      <td>0</td>\n",
       "      <td>0</td>\n",
       "      <td>5000</td>\n",
       "      <td>6</td>\n",
       "      <td>0</td>\n",
       "      <td>2</td>\n",
       "      <td>95</td>\n",
       "      <td>0</td>\n",
       "    </tr>\n",
       "    <tr>\n",
       "      <th>14126</th>\n",
       "      <td>90</td>\n",
       "      <td>43</td>\n",
       "      <td>13</td>\n",
       "      <td>0</td>\n",
       "      <td>0</td>\n",
       "      <td>0</td>\n",
       "      <td>200</td>\n",
       "      <td>6</td>\n",
       "      <td>0</td>\n",
       "      <td>2</td>\n",
       "      <td>94</td>\n",
       "      <td>0</td>\n",
       "    </tr>\n",
       "    <tr>\n",
       "      <th>109637</th>\n",
       "      <td>90</td>\n",
       "      <td>43</td>\n",
       "      <td>26</td>\n",
       "      <td>0</td>\n",
       "      <td>0</td>\n",
       "      <td>0</td>\n",
       "      <td>0</td>\n",
       "      <td>4</td>\n",
       "      <td>0</td>\n",
       "      <td>2</td>\n",
       "      <td>94</td>\n",
       "      <td>0</td>\n",
       "    </tr>\n",
       "    <tr>\n",
       "      <th>48811</th>\n",
       "      <td>90</td>\n",
       "      <td>43</td>\n",
       "      <td>29</td>\n",
       "      <td>0</td>\n",
       "      <td>0</td>\n",
       "      <td>2206</td>\n",
       "      <td>0</td>\n",
       "      <td>5</td>\n",
       "      <td>0</td>\n",
       "      <td>2</td>\n",
       "      <td>94</td>\n",
       "      <td>0</td>\n",
       "    </tr>\n",
       "    <tr>\n",
       "      <th>103468</th>\n",
       "      <td>90</td>\n",
       "      <td>43</td>\n",
       "      <td>31</td>\n",
       "      <td>0</td>\n",
       "      <td>6767</td>\n",
       "      <td>0</td>\n",
       "      <td>0</td>\n",
       "      <td>4</td>\n",
       "      <td>0</td>\n",
       "      <td>2</td>\n",
       "      <td>94</td>\n",
       "      <td>0</td>\n",
       "    </tr>\n",
       "    <tr>\n",
       "      <th>12476</th>\n",
       "      <td>90</td>\n",
       "      <td>43</td>\n",
       "      <td>32</td>\n",
       "      <td>0</td>\n",
       "      <td>0</td>\n",
       "      <td>0</td>\n",
       "      <td>0</td>\n",
       "      <td>4</td>\n",
       "      <td>0</td>\n",
       "      <td>2</td>\n",
       "      <td>94</td>\n",
       "      <td>0</td>\n",
       "    </tr>\n",
       "    <tr>\n",
       "      <th>68237</th>\n",
       "      <td>90</td>\n",
       "      <td>44</td>\n",
       "      <td>2</td>\n",
       "      <td>0</td>\n",
       "      <td>0</td>\n",
       "      <td>0</td>\n",
       "      <td>5000</td>\n",
       "      <td>2</td>\n",
       "      <td>0</td>\n",
       "      <td>2</td>\n",
       "      <td>94</td>\n",
       "      <td>0</td>\n",
       "    </tr>\n",
       "    <tr>\n",
       "      <th>45186</th>\n",
       "      <td>90</td>\n",
       "      <td>45</td>\n",
       "      <td>11</td>\n",
       "      <td>0</td>\n",
       "      <td>20051</td>\n",
       "      <td>0</td>\n",
       "      <td>1808</td>\n",
       "      <td>1</td>\n",
       "      <td>0</td>\n",
       "      <td>2</td>\n",
       "      <td>94</td>\n",
       "      <td>1</td>\n",
       "    </tr>\n",
       "    <tr>\n",
       "      <th>135497</th>\n",
       "      <td>90</td>\n",
       "      <td>49</td>\n",
       "      <td>33</td>\n",
       "      <td>0</td>\n",
       "      <td>0</td>\n",
       "      <td>0</td>\n",
       "      <td>0</td>\n",
       "      <td>6</td>\n",
       "      <td>0</td>\n",
       "      <td>2</td>\n",
       "      <td>95</td>\n",
       "      <td>1</td>\n",
       "    </tr>\n",
       "    <tr>\n",
       "      <th>160035</th>\n",
       "      <td>90</td>\n",
       "      <td>49</td>\n",
       "      <td>33</td>\n",
       "      <td>945</td>\n",
       "      <td>0</td>\n",
       "      <td>0</td>\n",
       "      <td>0</td>\n",
       "      <td>1</td>\n",
       "      <td>0</td>\n",
       "      <td>2</td>\n",
       "      <td>94</td>\n",
       "      <td>0</td>\n",
       "    </tr>\n",
       "    <tr>\n",
       "      <th>23181</th>\n",
       "      <td>90</td>\n",
       "      <td>50</td>\n",
       "      <td>34</td>\n",
       "      <td>700</td>\n",
       "      <td>11678</td>\n",
       "      <td>0</td>\n",
       "      <td>0</td>\n",
       "      <td>6</td>\n",
       "      <td>0</td>\n",
       "      <td>2</td>\n",
       "      <td>94</td>\n",
       "      <td>0</td>\n",
       "    </tr>\n",
       "  </tbody>\n",
       "</table>\n",
       "<p>199523 rows × 12 columns</p>\n",
       "</div>"
      ],
      "text/plain": [
       "        age  industry_code  occupation_code  wage_per_hour  capital_gains  \\\n",
       "66        0              0                0              0              0   \n",
       "105       0              0                0              0              0   \n",
       "311       0              0                0              0              0   \n",
       "422       0              0                0              0              0   \n",
       "582       0              0                0              0              0   \n",
       "708       0              0                0              0              0   \n",
       "1314      0              0                0              0              0   \n",
       "1412      0              0                0              0              0   \n",
       "1461      0              0                0              0              0   \n",
       "1674      0              0                0              0              0   \n",
       "1996      0              0                0              0              0   \n",
       "2080      0              0                0              0              0   \n",
       "2255      0              0                0              0              0   \n",
       "2500      0              0                0              0              0   \n",
       "2601      0              0                0              0              0   \n",
       "2867      0              0                0              0              0   \n",
       "2911      0              0                0              0              0   \n",
       "3087      0              0                0              0              0   \n",
       "3115      0              0                0              0              0   \n",
       "3283      0              0                0              0              0   \n",
       "3487      0              0                0              0              0   \n",
       "3648      0              0                0              0              0   \n",
       "3926      0              0                0              0              0   \n",
       "4036      0              0                0              0              0   \n",
       "4132      0              0                0              0              0   \n",
       "4178      0              0                0              0              0   \n",
       "4322      0              0                0              0              0   \n",
       "4489      0              0                0              0              0   \n",
       "4612      0              0                0              0              0   \n",
       "4797      0              0                0              0              0   \n",
       "...     ...            ...              ...            ...            ...   \n",
       "132334   90             33               30              0              0   \n",
       "145620   90             33               42              0              0   \n",
       "38817    90             34               17              0              0   \n",
       "34995    90             34               26              0              0   \n",
       "149444   90             35                2              0              0   \n",
       "139493   90             35                2              0              0   \n",
       "197027   90             35                3              0           6097   \n",
       "118962   90             35               17              0           2964   \n",
       "190108   90             36               27              0              0   \n",
       "146774   90             37                3              0              0   \n",
       "53628    90             37               30              0              0   \n",
       "197524   90             38               42              0              0   \n",
       "103037   90             39               29           2952              0   \n",
       "182326   90             40               12              0              0   \n",
       "24858    90             42                7              0              0   \n",
       "150225   90             42                7              0              0   \n",
       "37860    90             42                7              0          20051   \n",
       "91300    90             42               24              0              0   \n",
       "98786    90             43                2              0          20051   \n",
       "43180    90             43               10              0              0   \n",
       "14126    90             43               13              0              0   \n",
       "109637   90             43               26              0              0   \n",
       "48811    90             43               29              0              0   \n",
       "103468   90             43               31              0           6767   \n",
       "12476    90             43               32              0              0   \n",
       "68237    90             44                2              0              0   \n",
       "45186    90             45               11              0          20051   \n",
       "135497   90             49               33              0              0   \n",
       "160035   90             49               33            945              0   \n",
       "23181    90             50               34            700          11678   \n",
       "\n",
       "        capital_losses  dividend_from_Stocks  num_person_Worked_employer  \\\n",
       "66                   0                     0                           0   \n",
       "105                  0                     0                           0   \n",
       "311                  0                     0                           0   \n",
       "422                  0                     0                           0   \n",
       "582                  0                     0                           0   \n",
       "708                  0                     0                           0   \n",
       "1314                 0                     0                           0   \n",
       "1412                 0                     0                           0   \n",
       "1461                 0                     0                           0   \n",
       "1674                 0                     0                           0   \n",
       "1996                 0                     0                           0   \n",
       "2080                 0                     0                           0   \n",
       "2255                 0                     0                           0   \n",
       "2500                 0                     0                           0   \n",
       "2601                 0                     0                           0   \n",
       "2867                 0                     0                           0   \n",
       "2911                 0                     0                           0   \n",
       "3087                 0                     0                           0   \n",
       "3115                 0                     0                           0   \n",
       "3283                 0                     0                           0   \n",
       "3487                 0                     0                           0   \n",
       "3648                 0                     0                           0   \n",
       "3926                 0                     0                           0   \n",
       "4036                 0                     0                           0   \n",
       "4132                 0                     0                           0   \n",
       "4178                 0                     0                           0   \n",
       "4322                 0                     0                           0   \n",
       "4489                 0                     0                           0   \n",
       "4612                 0                     0                           0   \n",
       "4797                 0                     0                           0   \n",
       "...                ...                   ...                         ...   \n",
       "132334               0                     0                           3   \n",
       "145620               0                     0                           6   \n",
       "38817                0                     0                           3   \n",
       "34995                0                     0                           4   \n",
       "149444               0                     0                           1   \n",
       "139493               0                     0                           3   \n",
       "197027               0                   400                           1   \n",
       "118962               0                     0                           3   \n",
       "190108               0                     0                           1   \n",
       "146774               0                   364                           3   \n",
       "53628                0                     0                           6   \n",
       "197524               0                     0                           1   \n",
       "103037               0                  6082                           6   \n",
       "182326               0                     0                           3   \n",
       "24858                0                     0                           2   \n",
       "150225               0                     0                           6   \n",
       "37860                0                     0                           2   \n",
       "91300                0                     0                           1   \n",
       "98786                0                     0                           6   \n",
       "43180                0                  5000                           6   \n",
       "14126                0                   200                           6   \n",
       "109637               0                     0                           4   \n",
       "48811             2206                     0                           5   \n",
       "103468               0                     0                           4   \n",
       "12476                0                     0                           4   \n",
       "68237                0                  5000                           2   \n",
       "45186                0                  1808                           1   \n",
       "135497               0                     0                           6   \n",
       "160035               0                     0                           1   \n",
       "23181                0                     0                           6   \n",
       "\n",
       "        business_or_self_employed  veterans_benefits  year  income_level  \n",
       "66                              0                  0    94             0  \n",
       "105                             0                  0    94             0  \n",
       "311                             0                  0    94             0  \n",
       "422                             0                  0    94             0  \n",
       "582                             0                  0    94             0  \n",
       "708                             0                  0    94             0  \n",
       "1314                            0                  0    94             0  \n",
       "1412                            0                  0    94             0  \n",
       "1461                            0                  0    94             0  \n",
       "1674                            0                  0    94             0  \n",
       "1996                            0                  0    94             0  \n",
       "2080                            0                  0    94             0  \n",
       "2255                            0                  0    94             0  \n",
       "2500                            0                  0    94             0  \n",
       "2601                            0                  0    94             0  \n",
       "2867                            0                  0    94             0  \n",
       "2911                            0                  0    94             0  \n",
       "3087                            0                  0    94             0  \n",
       "3115                            0                  0    94             0  \n",
       "3283                            0                  0    94             0  \n",
       "3487                            0                  0    94             0  \n",
       "3648                            0                  0    94             0  \n",
       "3926                            0                  0    94             0  \n",
       "4036                            0                  0    94             0  \n",
       "4132                            0                  0    94             0  \n",
       "4178                            0                  0    94             0  \n",
       "4322                            0                  0    94             0  \n",
       "4489                            0                  0    94             0  \n",
       "4612                            0                  0    94             0  \n",
       "4797                            0                  0    94             0  \n",
       "...                           ...                ...   ...           ...  \n",
       "132334                          0                  2    94             0  \n",
       "145620                          2                  2    95             0  \n",
       "38817                           0                  2    95             0  \n",
       "34995                           0                  2    94             0  \n",
       "149444                          0                  2    94             0  \n",
       "139493                          0                  2    94             0  \n",
       "197027                          0                  2    94             1  \n",
       "118962                          0                  2    95             0  \n",
       "190108                          0                  2    94             0  \n",
       "146774                          0                  2    94             1  \n",
       "53628                           2                  2    94             0  \n",
       "197524                          0                  2    94             0  \n",
       "103037                          0                  2    94             1  \n",
       "182326                          0                  2    94             0  \n",
       "24858                           0                  2    94             1  \n",
       "150225                          0                  2    94             1  \n",
       "37860                           0                  2    94             1  \n",
       "91300                           1                  2    94             0  \n",
       "98786                           0                  2    94             1  \n",
       "43180                           0                  2    95             0  \n",
       "14126                           0                  2    94             0  \n",
       "109637                          0                  2    94             0  \n",
       "48811                           0                  2    94             0  \n",
       "103468                          0                  2    94             0  \n",
       "12476                           0                  2    94             0  \n",
       "68237                           0                  2    94             0  \n",
       "45186                           0                  2    94             1  \n",
       "135497                          0                  2    95             1  \n",
       "160035                          0                  2    94             0  \n",
       "23181                           0                  2    94             0  \n",
       "\n",
       "[199523 rows x 12 columns]"
      ]
     },
     "execution_count": 48,
     "metadata": {},
     "output_type": "execute_result"
    }
   ],
   "source": [
    "numerical_variables.sort_values(by=list(numerical_variables.columns))"
   ]
  },
  {
   "cell_type": "markdown",
   "metadata": {
    "collapsed": true
   },
   "source": [
    "# 机器学习\n",
    "## 尝试1：只用数值变量，随机森林"
   ]
  },
  {
   "cell_type": "code",
   "execution_count": 58,
   "metadata": {
    "collapsed": true
   },
   "outputs": [],
   "source": [
    "from sklearn.ensemble import RandomForestClassifier\n",
    "clf=RandomForestClassifier(n_estimators=100)"
   ]
  },
  {
   "cell_type": "code",
   "execution_count": 59,
   "metadata": {
    "collapsed": true
   },
   "outputs": [],
   "source": [
    "X = numerical_variables.drop('income_level',axis=1)\n",
    "y = numerical_variables.income_level"
   ]
  },
  {
   "cell_type": "code",
   "execution_count": 62,
   "metadata": {
    "collapsed": false
   },
   "outputs": [
    {
     "data": {
      "text/plain": [
       "RandomForestClassifier(bootstrap=True, class_weight=None, criterion='gini',\n",
       "            max_depth=None, max_features='auto', max_leaf_nodes=None,\n",
       "            min_impurity_split=1e-07, min_samples_leaf=1,\n",
       "            min_samples_split=2, min_weight_fraction_leaf=0.0,\n",
       "            n_estimators=100, n_jobs=1, oob_score=False, random_state=None,\n",
       "            verbose=0, warm_start=False)"
      ]
     },
     "execution_count": 62,
     "metadata": {},
     "output_type": "execute_result"
    }
   ],
   "source": [
    "clf.fit(X,y)"
   ]
  },
  {
   "cell_type": "code",
   "execution_count": 63,
   "metadata": {
    "collapsed": true
   },
   "outputs": [],
   "source": [
    "target = test.income_level"
   ]
  },
  {
   "cell_type": "code",
   "execution_count": 69,
   "metadata": {
    "collapsed": false
   },
   "outputs": [],
   "source": [
    "numerical_test=test[test.dtypes[test.dtypes != 'object'].index]"
   ]
  },
  {
   "cell_type": "code",
   "execution_count": 79,
   "metadata": {
    "collapsed": false
   },
   "outputs": [],
   "source": [
    "numerical_test=numerical_test.drop('weeks_worked_in_year',axis=1)"
   ]
  },
  {
   "cell_type": "code",
   "execution_count": 88,
   "metadata": {
    "collapsed": false
   },
   "outputs": [],
   "source": [
    "target=target.astype('int')"
   ]
  },
  {
   "cell_type": "code",
   "execution_count": 90,
   "metadata": {
    "collapsed": true
   },
   "outputs": [],
   "source": [
    "X_test = numerical_test"
   ]
  },
  {
   "cell_type": "code",
   "execution_count": 92,
   "metadata": {
    "collapsed": true
   },
   "outputs": [],
   "source": [
    "preds=clf.predict(X_test)"
   ]
  },
  {
   "cell_type": "code",
   "execution_count": 95,
   "metadata": {
    "collapsed": false
   },
   "outputs": [
    {
     "data": {
      "text/plain": [
       "0.94790601631883886"
      ]
     },
     "execution_count": 95,
     "metadata": {},
     "output_type": "execute_result"
    }
   ],
   "source": [
    "clf.score(X_test,target)"
   ]
  },
  {
   "cell_type": "markdown",
   "metadata": {},
   "source": [
    "非常高的accuracy，但可能100里有95个0，5个1，95个0全预测对，5个1全错。我们要预测是1。所以需要用其他度量，precision 或recall:"
   ]
  },
  {
   "cell_type": "code",
   "execution_count": 114,
   "metadata": {
    "collapsed": true
   },
   "outputs": [],
   "source": [
    "from sklearn import metrics"
   ]
  },
  {
   "cell_type": "code",
   "execution_count": 115,
   "metadata": {
    "collapsed": false
   },
   "outputs": [
    {
     "data": {
      "text/plain": [
       "0.94790601631883886"
      ]
     },
     "execution_count": 115,
     "metadata": {},
     "output_type": "execute_result"
    }
   ],
   "source": [
    "metrics.accuracy_score(target,preds)"
   ]
  },
  {
   "cell_type": "code",
   "execution_count": 116,
   "metadata": {
    "collapsed": false
   },
   "outputs": [
    {
     "data": {
      "text/plain": [
       "0.40672486259295182"
      ]
     },
     "execution_count": 116,
     "metadata": {},
     "output_type": "execute_result"
    }
   ],
   "source": [
    "metrics.recall_score(target,preds)  # 查全率 40.7%"
   ]
  },
  {
   "cell_type": "code",
   "execution_count": 117,
   "metadata": {
    "collapsed": false
   },
   "outputs": [
    {
     "data": {
      "text/plain": [
       "0.62231016571852582"
      ]
     },
     "execution_count": 117,
     "metadata": {},
     "output_type": "execute_result"
    }
   ],
   "source": [
    "metrics.precision_score(target,preds)  # 查准率 62.2%"
   ]
  },
  {
   "cell_type": "markdown",
   "metadata": {},
   "source": [
    "## 尝试2：Logistic Regression"
   ]
  },
  {
   "cell_type": "code",
   "execution_count": 118,
   "metadata": {
    "collapsed": true
   },
   "outputs": [],
   "source": [
    "from sklearn.linear_model import LogisticRegression"
   ]
  },
  {
   "cell_type": "code",
   "execution_count": 119,
   "metadata": {
    "collapsed": true
   },
   "outputs": [],
   "source": [
    "lr=LogisticRegression()"
   ]
  },
  {
   "cell_type": "code",
   "execution_count": 120,
   "metadata": {
    "collapsed": false
   },
   "outputs": [
    {
     "data": {
      "text/plain": [
       "LogisticRegression(C=1.0, class_weight=None, dual=False, fit_intercept=True,\n",
       "          intercept_scaling=1, max_iter=100, multi_class='ovr', n_jobs=1,\n",
       "          penalty='l2', random_state=None, solver='liblinear', tol=0.0001,\n",
       "          verbose=0, warm_start=False)"
      ]
     },
     "execution_count": 120,
     "metadata": {},
     "output_type": "execute_result"
    }
   ],
   "source": [
    "lr.fit(X,y)"
   ]
  },
  {
   "cell_type": "code",
   "execution_count": 121,
   "metadata": {
    "collapsed": false
   },
   "outputs": [
    {
     "data": {
      "text/plain": [
       "0.9443876425893627"
      ]
     },
     "execution_count": 121,
     "metadata": {},
     "output_type": "execute_result"
    }
   ],
   "source": [
    "metrics.accuracy_score(target,lr.predict(X_test))"
   ]
  },
  {
   "cell_type": "code",
   "execution_count": 123,
   "metadata": {
    "collapsed": false
   },
   "outputs": [
    {
     "data": {
      "text/plain": [
       "0.16440349175557711"
      ]
     },
     "execution_count": 123,
     "metadata": {},
     "output_type": "execute_result"
    }
   ],
   "source": [
    "metrics.recall_score(target,lr.predict(X_test))   # 查全率16.4% ，16.4%"
   ]
  },
  {
   "cell_type": "code",
   "execution_count": 124,
   "metadata": {
    "collapsed": false
   },
   "outputs": [
    {
     "data": {
      "text/plain": [
       "0.72851002865329517"
      ]
     },
     "execution_count": 124,
     "metadata": {},
     "output_type": "execute_result"
    }
   ],
   "source": [
    "metrics.precision_score(target,lr.predict(X_test))  # 查准率72.3%，比随机森林的要高些"
   ]
  },
  {
   "cell_type": "code",
   "execution_count": null,
   "metadata": {
    "collapsed": true
   },
   "outputs": [],
   "source": []
  }
 ],
 "metadata": {
  "kernelspec": {
   "display_name": "Python 3",
   "language": "python",
   "name": "python3"
  },
  "language_info": {
   "codemirror_mode": {
    "name": "ipython",
    "version": 3
   },
   "file_extension": ".py",
   "mimetype": "text/x-python",
   "name": "python",
   "nbconvert_exporter": "python",
   "pygments_lexer": "ipython3",
   "version": "3.5.2"
  }
 },
 "nbformat": 4,
 "nbformat_minor": 0
}
